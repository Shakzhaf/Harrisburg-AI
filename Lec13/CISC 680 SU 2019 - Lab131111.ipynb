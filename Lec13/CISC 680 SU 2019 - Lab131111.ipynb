{
 "cells": [
  {
   "cell_type": "markdown",
   "metadata": {},
   "source": [
    "# <div><center><b>CISC 487 / 680 SU 2019</b></center></div>"
   ]
  },
  {
   "cell_type": "markdown",
   "metadata": {},
   "source": [
    "#  <div1><center><b>Applied Artificial Intelligence International Boot Camp</b></center></div1>"
   ]
  },
  {
   "cell_type": "markdown",
   "metadata": {},
   "source": [
    "# <center>Lab Booklet #13</center>  "
   ]
  },
  {
   "cell_type": "markdown",
   "metadata": {},
   "source": [
    "# <center>Lab Title: Building Recommender Systems</center>"
   ]
  },
  {
   "cell_type": "markdown",
   "metadata": {},
   "source": [
    "<div><center>Instructors: Prof. Shalaan PhD, Prof. Grey M.S., Prof. Chu M.S.</center></div>"
   ]
  },
  {
   "cell_type": "markdown",
   "metadata": {},
   "source": [
    "<div><center>TA's: Aditya Syal, Bao Pham, Zach Pelkey</center></div>"
   ]
  },
  {
   "cell_type": "markdown",
   "metadata": {},
   "source": [
    "# Objectives"
   ]
  },
  {
   "cell_type": "markdown",
   "metadata": {},
   "source": [
    "<font size=3> \n",
    "Recommender systems are at the core of many commercial and non-commercial applications where users have to make semi-informed choices about products. We have spoken about how to leverage clustering algorithms on datasets of user ratings in order to be able to make recommendations.  Today, we will be using a real-world dataset in order to create a recommender system for movies. \n",
    "<br>\n",
    "<br>\n",
    "After completing this lab, you will be able to:\n",
    "</font>\n",
    "    <br>\n",
    "     <ul><b><font size=3>\n",
    "        <li>Understand the differences in types of recommender systems</li>\n",
    "        <li>Be able to build a movie recommender based on real-world data</li>\n",
    "        <li>Be able to submit movie ratings to the recommender and evaluate the effectiveness of the recommendation</li>\n",
    "    </font></b></ul>\n"
   ]
  },
  {
   "cell_type": "markdown",
   "metadata": {},
   "source": [
    "# Resources"
   ]
  },
  {
   "cell_type": "markdown",
   "metadata": {},
   "source": [
    "<font size=3> While the lab will explain everything that you need to know, you may want to consult the following sources for additional knowledge: </font>\n",
    "\n",
    "<link><ul><font size=4>\n",
    "    <li>https://en.wikipedia.org/wiki/Recommender_system</li>\n",
    "    <li>http://www.movielens.org/</li>\n",
    "    <li>https://grouplens.org/datasets/movielens/</li>\n",
    "    </font></ul></link>"
   ]
  },
  {
   "cell_type": "markdown",
   "metadata": {},
   "source": [
    "# Deliverables"
   ]
  },
  {
   "cell_type": "markdown",
   "metadata": {},
   "source": [
    "<font size=3> For this lab, you will need to submit: </font>\n",
    "<ul>\n",
    "    <li><font size=3><b>Jupyter notebook files (.ipynb), named and coded as instructed. In this lab, you will need to submit:\n",
    "    </b>\n",
    "    <ul>\n",
    "    <li>CISC 680 SU 2019 – Lab 13.ipynb</li>\n",
    "    </ul>\n",
    "    </font></li>\n",
    "    <li><font size=3><b>Altered data file from Question 05:</b>\n",
    "    <ul>\n",
    "        <li>my-movies.csv</li>\n",
    "    </ul>\n",
    "    </font></li>\n",
    "   \n",
    "     \n",
    "     \n",
    "</ul>"
   ]
  },
  {
   "cell_type": "markdown",
   "metadata": {},
   "source": [
    "# Instructions"
   ]
  },
  {
   "cell_type": "markdown",
   "metadata": {},
   "source": [
    "<font size = 3> The MovieLens dataset was assembled by the GroupLens Research Project in the Department of Computer Science and Engineering at the University of Minnesota. The project, as a whole, began in 1992 in an effort to better understand the uses and design of recommender systems.\n",
    "<br><br>\n",
    "The MovieLens recommender system has been active and accumulating data since the mid-1990’s. It is still active and accumulating data today, with the full data set currently standing at over 27 million records, about 58,000 movies, and 260,000 users. The recommender also tags movies with relevant information such as genre or style. These tags are assigned by developers and users alike in order to understand the content of the movies.\n",
    "<br><br>\n",
    "We will be using the “MovieLens Latest Small Dataset” which the GroupLens website describes as containing “100,000 ratings and 3,600 tag applications applied to 9,000 movies by 600 users.” This file was released in September, 2018.\n",
    "</font>"
   ]
  },
  {
   "cell_type": "markdown",
   "metadata": {},
   "source": [
    "# Part 1: Data Analysis"
   ]
  },
  {
   "cell_type": "markdown",
   "metadata": {},
   "source": [
    "<font size = 3>\n",
    "    <div>First, you need to download, unpack, and analyze our dataset.</div>\n",
    "    <br><br>\n",
    "    <div1>1.   Unpack the data set and open each file, starting with the readme file, in order to better understand the data that we have available. Describe the data that we have available to us and the various ways that we could theoretically use this data to make recommendations. </div1>\n",
    "</font>"
   ]
  },
  {
   "cell_type": "code",
   "execution_count": null,
   "metadata": {},
   "outputs": [],
   "source": [
    "The links.csv file contains movieid, imdbid and tmdbid.\n",
    "the ratings.csv file contains userid, movieid, rating and timestamp.\n",
    "the tags.csv file contains movieID, userid time ans timestamp.\n",
    "the movie.csv contains movieid, title, genre\n",
    "the readme only file gives the summary"
   ]
  },
  {
   "cell_type": "markdown",
   "metadata": {},
   "source": []
  },
  {
   "cell_type": "markdown",
   "metadata": {},
   "source": [
    "<font size = 3>\n",
    "     2.\tGiven the structure of the data and the data itself, what are some concerns, limitations, or issues that you will have to deal with during the pre-processing or processing phases? How will you deal with them?\n",
    "</font>"
   ]
  },
  {
   "cell_type": "markdown",
   "metadata": {},
   "source": [
    "The values should not be continous. Some rows need to eliminated before traing the data. There will be some users who havent watches some series, so if a series has less rating, it has insufficient data."
   ]
  },
  {
   "cell_type": "markdown",
   "metadata": {},
   "source": []
  },
  {
   "cell_type": "markdown",
   "metadata": {},
   "source": [
    "# Part 2: Nearest Neighbor Clustering & Similarity Scores"
   ]
  },
  {
   "cell_type": "markdown",
   "metadata": {},
   "source": [
    "<font size = 3>\n",
    "    <div>Now we can build our nearest neighbor classifier and see how effective that they are</div>\n",
    "    <br><br>\n",
    "    <div1>3.\tConsider the following user data: </div1>\n",
    "    <br />\n",
    "    <table>\n",
    "        <tr>\n",
    "            <td>\n",
    "                &nbsp;\n",
    "            </td><td>\n",
    "                <b>Movie 1</b>\n",
    "            </td><td>\n",
    "                <b>Movie 2</b>\n",
    "            </td><td>\n",
    "                <b>Movie 3</b>\n",
    "            </td><td>\n",
    "                <b>Movie 4</b>\n",
    "            </td><td>\n",
    "                <b>Movie 5</b>\n",
    "            </td>\n",
    "        </tr><tr>\n",
    "            <td>\n",
    "                <b>User 1</b>\n",
    "            </td><td>\n",
    "                <center>2</center>\n",
    "            </td><td>\n",
    "                <center>5</center>\n",
    "            </td><td>\n",
    "                &nbsp;\n",
    "            </td><td>\n",
    "                <center>4</center>\n",
    "            </td><td>\n",
    "                <center>3</center>\n",
    "            </td>\n",
    "        </tr><tr>\n",
    "            <td>\n",
    "                <b>User 2</b>\n",
    "            </td><td>\n",
    "                <center>3</center>\n",
    "            </td><td>\n",
    "                &nbsp;\n",
    "            </td><td>\n",
    "                <center>3</center>\n",
    "            </td><td>\n",
    "                <center>3</center>\n",
    "            </td><td>\n",
    "                <center>4</center>\n",
    "            </td>\n",
    "        </tr><tr>\n",
    "            <td>\n",
    "                <b>User 3</b>\n",
    "            </td><td>\n",
    "                <center>4</center>\n",
    "            </td><td>\n",
    "                <center>3</center>\n",
    "            </td><td>\n",
    "                &nbsp;\n",
    "            </td><td>\n",
    "                <center>5</center>\n",
    "            </td><td>\n",
    "                &nbsp;\n",
    "            </td>\n",
    "        </tr><tr>\n",
    "            <td>\n",
    "                <b>User 4</b>\n",
    "            </td><td>\n",
    "                <center>1</center>\n",
    "            </td><td>\n",
    "                <center>2</center>\n",
    "            </td><td>\n",
    "                <center>1</center>\n",
    "            </td><td>\n",
    "                <center>4</center>\n",
    "            </td><td>\n",
    "                <center>1</center>\n",
    "            </td>\n",
    "        </tr><tr>\n",
    "            <td>\n",
    "                <b>User 5</b>\n",
    "            </td><td>\n",
    "                <center>2</center>\n",
    "            </td><td>\n",
    "                &nbsp;\n",
    "            </td><td>\n",
    "                &nbsp;\n",
    "            </td><td>\n",
    "                <center>1</center>\n",
    "            </td><td>\n",
    "                <center>5</center>\n",
    "            </td>\n",
    "        </tr>\n",
    "    </table>\n",
    "    <br />\n",
    "    <div>Assume K=2. Using Euclidean distance, determine the 2 nearest neighbors for each of the 5 users. Show your work (either through manual or coded calculations) and be sure to state who which of the two users are the nearest neighbors.</div>\n",
    "</font>"
   ]
  },
  {
   "cell_type": "markdown",
   "metadata": {},
   "source": []
  },
  {
   "cell_type": "code",
   "execution_count": null,
   "metadata": {},
   "outputs": [],
   "source": []
  },
  {
   "cell_type": "markdown",
   "metadata": {},
   "source": [
    "<font size = 3>\n",
    "    <div1>4.\tUsing the the data in Question 03, consider adding the following user:</div1>\n",
    "    <br />\n",
    "    <table>\n",
    "        <tr>\n",
    "            <td>\n",
    "                &nbsp;\n",
    "            </td><td>\n",
    "                <b>Movie 1</b>\n",
    "            </td><td>\n",
    "                <b>Movie 2</b>\n",
    "            </td><td>\n",
    "                <b>Movie 3</b>\n",
    "            </td><td>\n",
    "                <b>Movie 4</b>\n",
    "            </td><td>\n",
    "                <b>Movie 5</b>\n",
    "            </td>\n",
    "        </tr><tr>\n",
    "            <td>\n",
    "                <b>User 6</b>\n",
    "            </td><td>\n",
    "                <center>3</center>\n",
    "            </td><td>\n",
    "                <center>2</center>\n",
    "            </td><td>\n",
    "                <center>5</center>\n",
    "            </td><td>\n",
    "                <center>3</center>\n",
    "            </td><td>\n",
    "                <center>?</center>\n",
    "            </td>\n",
    "        </tr>\n",
    "    </table>\n",
    "    <br />\n",
    "    <div>Continuing with K=2, determine the nearest neighbors to User 6 and create a rating prediction of Movie 5. Explain the calculation method used and show your calculations. Your calculations may be done manually or using code.</div>\n",
    "</font>"
   ]
  },
  {
   "cell_type": "markdown",
   "metadata": {},
   "source": []
  },
  {
   "cell_type": "markdown",
   "metadata": {},
   "source": [
    "<font size = 3>\n",
    "    5.\tOpen the movies.csv file to see the movies that are in our data set. We need ratings to compare to and test our recommender. Pick 10 movies that you have seen. <b>Rate 9 of those movies and list those ratings below</b>. Be sure to rate them on the scale of our dataset.\n",
    "    </font>"
   ]
  },
  {
   "cell_type": "markdown",
   "metadata": {},
   "source": []
  },
  {
   "cell_type": "code",
   "execution_count": 2,
   "metadata": {
    "scrolled": false
   },
   "outputs": [
    {
     "data": {
      "text/html": [
       "<div>\n",
       "<style scoped>\n",
       "    .dataframe tbody tr th:only-of-type {\n",
       "        vertical-align: middle;\n",
       "    }\n",
       "\n",
       "    .dataframe tbody tr th {\n",
       "        vertical-align: top;\n",
       "    }\n",
       "\n",
       "    .dataframe thead th {\n",
       "        text-align: right;\n",
       "    }\n",
       "</style>\n",
       "<table border=\"1\" class=\"dataframe\">\n",
       "  <thead>\n",
       "    <tr style=\"text-align: right;\">\n",
       "      <th></th>\n",
       "      <th>movieId</th>\n",
       "      <th>title</th>\n",
       "      <th>genres</th>\n",
       "      <th>ratings</th>\n",
       "    </tr>\n",
       "  </thead>\n",
       "  <tbody>\n",
       "    <tr>\n",
       "      <th>0</th>\n",
       "      <td>1</td>\n",
       "      <td>Toy Story (1995)</td>\n",
       "      <td>Adventure|Animation|Children|Comedy|Fantasy</td>\n",
       "      <td>4.0</td>\n",
       "    </tr>\n",
       "    <tr>\n",
       "      <th>6763</th>\n",
       "      <td>59900</td>\n",
       "      <td>You Don't Mess with the Zohan (2008)</td>\n",
       "      <td>Comedy</td>\n",
       "      <td>2.0</td>\n",
       "    </tr>\n",
       "    <tr>\n",
       "      <th>8692</th>\n",
       "      <td>122906</td>\n",
       "      <td>Black Panther (2017)</td>\n",
       "      <td>Action|Adventure|Sci-Fi</td>\n",
       "      <td>3.0</td>\n",
       "    </tr>\n",
       "    <tr>\n",
       "      <th>8693</th>\n",
       "      <td>122912</td>\n",
       "      <td>Avengers: Infinity War - Part I (2018)</td>\n",
       "      <td>Action|Adventure|Sci-Fi</td>\n",
       "      <td>3.0</td>\n",
       "    </tr>\n",
       "    <tr>\n",
       "      <th>8694</th>\n",
       "      <td>122916</td>\n",
       "      <td>Thor: Ragnarok (2017)</td>\n",
       "      <td>Action|Adventure|Sci-Fi</td>\n",
       "      <td>1.0</td>\n",
       "    </tr>\n",
       "    <tr>\n",
       "      <th>8695</th>\n",
       "      <td>122918</td>\n",
       "      <td>Guardians of the Galaxy 2 (2017)</td>\n",
       "      <td>Action|Adventure|Sci-Fi</td>\n",
       "      <td>1.5</td>\n",
       "    </tr>\n",
       "    <tr>\n",
       "      <th>8696</th>\n",
       "      <td>122920</td>\n",
       "      <td>Captain America: Civil War (2016)</td>\n",
       "      <td>Action|Sci-Fi|Thriller</td>\n",
       "      <td>2.5</td>\n",
       "    </tr>\n",
       "    <tr>\n",
       "      <th>8697</th>\n",
       "      <td>122922</td>\n",
       "      <td>Doctor Strange (2016)</td>\n",
       "      <td>Action|Adventure|Sci-Fi</td>\n",
       "      <td>3.5</td>\n",
       "    </tr>\n",
       "    <tr>\n",
       "      <th>8698</th>\n",
       "      <td>122924</td>\n",
       "      <td>X-Men: Apocalypse (2016)</td>\n",
       "      <td>Action|Adventure|Fantasy|Sci-Fi</td>\n",
       "      <td>4.5</td>\n",
       "    </tr>\n",
       "    <tr>\n",
       "      <th>8753</th>\n",
       "      <td>128089</td>\n",
       "      <td>Kevin Hart: I'm a Grown Little Man (2009)</td>\n",
       "      <td>Comedy</td>\n",
       "      <td>NaN</td>\n",
       "    </tr>\n",
       "  </tbody>\n",
       "</table>\n",
       "</div>"
      ],
      "text/plain": [
       "      movieId                                      title  \\\n",
       "0           1                           Toy Story (1995)   \n",
       "6763    59900       You Don't Mess with the Zohan (2008)   \n",
       "8692   122906                       Black Panther (2017)   \n",
       "8693   122912     Avengers: Infinity War - Part I (2018)   \n",
       "8694   122916                      Thor: Ragnarok (2017)   \n",
       "8695   122918           Guardians of the Galaxy 2 (2017)   \n",
       "8696   122920          Captain America: Civil War (2016)   \n",
       "8697   122922                      Doctor Strange (2016)   \n",
       "8698   122924                   X-Men: Apocalypse (2016)   \n",
       "8753   128089  Kevin Hart: I'm a Grown Little Man (2009)   \n",
       "\n",
       "                                           genres  ratings  \n",
       "0     Adventure|Animation|Children|Comedy|Fantasy      4.0  \n",
       "6763                                       Comedy      2.0  \n",
       "8692                      Action|Adventure|Sci-Fi      3.0  \n",
       "8693                      Action|Adventure|Sci-Fi      3.0  \n",
       "8694                      Action|Adventure|Sci-Fi      1.0  \n",
       "8695                      Action|Adventure|Sci-Fi      1.5  \n",
       "8696                       Action|Sci-Fi|Thriller      2.5  \n",
       "8697                      Action|Adventure|Sci-Fi      3.5  \n",
       "8698              Action|Adventure|Fantasy|Sci-Fi      4.5  \n",
       "8753                                       Comedy      NaN  "
      ]
     },
     "execution_count": 2,
     "metadata": {},
     "output_type": "execute_result"
    }
   ],
   "source": [
    "import numpy as np\n",
    "import pandas as pd\n",
    "movie = pd.read_csv('movies.csv')\n",
    "#movie.head()\n",
    "data=movie.loc[[0, 6763, 8692, 8693, 8694, 8695, 8696, 8697, 8698, 8753]]\n",
    "data['ratings']=[4, 2, 3, 3, 1, 1.5, 2.5, 3.5, 4.5, np.nan]\n",
    "data\n"
   ]
  },
  {
   "cell_type": "markdown",
   "metadata": {},
   "source": [
    "<font size = 3>\n",
    "    6.\tClean the data in the user rating file so that it only contains ratings for your 10 chosen movies from Question 05. Include this file as my-movies.csv.\n",
    "    </font>"
   ]
  },
  {
   "cell_type": "markdown",
   "metadata": {},
   "source": []
  },
  {
   "cell_type": "code",
   "execution_count": 3,
   "metadata": {},
   "outputs": [
    {
     "data": {
      "text/html": [
       "<div>\n",
       "<style scoped>\n",
       "    .dataframe tbody tr th:only-of-type {\n",
       "        vertical-align: middle;\n",
       "    }\n",
       "\n",
       "    .dataframe tbody tr th {\n",
       "        vertical-align: top;\n",
       "    }\n",
       "\n",
       "    .dataframe thead th {\n",
       "        text-align: right;\n",
       "    }\n",
       "</style>\n",
       "<table border=\"1\" class=\"dataframe\">\n",
       "  <thead>\n",
       "    <tr style=\"text-align: right;\">\n",
       "      <th></th>\n",
       "      <th>userId</th>\n",
       "      <th>movieId</th>\n",
       "      <th>rating</th>\n",
       "    </tr>\n",
       "  </thead>\n",
       "  <tbody>\n",
       "    <tr>\n",
       "      <th>0</th>\n",
       "      <td>1</td>\n",
       "      <td>1</td>\n",
       "      <td>4.0</td>\n",
       "    </tr>\n",
       "    <tr>\n",
       "      <th>1</th>\n",
       "      <td>5</td>\n",
       "      <td>1</td>\n",
       "      <td>4.0</td>\n",
       "    </tr>\n",
       "    <tr>\n",
       "      <th>2</th>\n",
       "      <td>7</td>\n",
       "      <td>1</td>\n",
       "      <td>4.5</td>\n",
       "    </tr>\n",
       "    <tr>\n",
       "      <th>3</th>\n",
       "      <td>15</td>\n",
       "      <td>1</td>\n",
       "      <td>2.5</td>\n",
       "    </tr>\n",
       "    <tr>\n",
       "      <th>4</th>\n",
       "      <td>17</td>\n",
       "      <td>1</td>\n",
       "      <td>4.5</td>\n",
       "    </tr>\n",
       "  </tbody>\n",
       "</table>\n",
       "</div>"
      ],
      "text/plain": [
       "   userId  movieId  rating\n",
       "0       1        1     4.0\n",
       "1       5        1     4.0\n",
       "2       7        1     4.5\n",
       "3      15        1     2.5\n",
       "4      17        1     4.5"
      ]
     },
     "execution_count": 3,
     "metadata": {},
     "output_type": "execute_result"
    }
   ],
   "source": [
    "rate = pd.read_csv('my-movies.csv', usecols=range(3))\n",
    "rate.head()"
   ]
  },
  {
   "cell_type": "markdown",
   "metadata": {},
   "source": [
    "<font size = 3>\n",
    "    7.\tUsing your my-movies.csv file, build a K-Nearest Neighbor classifier based on your movie rating data. Display the names of the K- nearest neighbors and be sure to save them for later use.\n",
    "</font>"
   ]
  },
  {
   "cell_type": "code",
   "execution_count": 4,
   "metadata": {},
   "outputs": [
    {
     "data": {
      "text/html": [
       "<div>\n",
       "<style scoped>\n",
       "    .dataframe tbody tr th:only-of-type {\n",
       "        vertical-align: middle;\n",
       "    }\n",
       "\n",
       "    .dataframe tbody tr th {\n",
       "        vertical-align: top;\n",
       "    }\n",
       "\n",
       "    .dataframe thead tr th {\n",
       "        text-align: left;\n",
       "    }\n",
       "\n",
       "    .dataframe thead tr:last-of-type th {\n",
       "        text-align: right;\n",
       "    }\n",
       "</style>\n",
       "<table border=\"1\" class=\"dataframe\">\n",
       "  <thead>\n",
       "    <tr>\n",
       "      <th></th>\n",
       "      <th colspan=\"2\" halign=\"left\">rating</th>\n",
       "    </tr>\n",
       "    <tr>\n",
       "      <th></th>\n",
       "      <th>size</th>\n",
       "      <th>mean</th>\n",
       "    </tr>\n",
       "    <tr>\n",
       "      <th>movieId</th>\n",
       "      <th></th>\n",
       "      <th></th>\n",
       "    </tr>\n",
       "  </thead>\n",
       "  <tbody>\n",
       "    <tr>\n",
       "      <th>1</th>\n",
       "      <td>215.0</td>\n",
       "      <td>3.920930</td>\n",
       "    </tr>\n",
       "    <tr>\n",
       "      <th>59900</th>\n",
       "      <td>15.0</td>\n",
       "      <td>2.866667</td>\n",
       "    </tr>\n",
       "    <tr>\n",
       "      <th>122906</th>\n",
       "      <td>11.0</td>\n",
       "      <td>3.727273</td>\n",
       "    </tr>\n",
       "    <tr>\n",
       "      <th>122912</th>\n",
       "      <td>13.0</td>\n",
       "      <td>4.000000</td>\n",
       "    </tr>\n",
       "    <tr>\n",
       "      <th>122916</th>\n",
       "      <td>20.0</td>\n",
       "      <td>4.025000</td>\n",
       "    </tr>\n",
       "    <tr>\n",
       "      <th>122918</th>\n",
       "      <td>27.0</td>\n",
       "      <td>3.925926</td>\n",
       "    </tr>\n",
       "    <tr>\n",
       "      <th>122920</th>\n",
       "      <td>22.0</td>\n",
       "      <td>3.613636</td>\n",
       "    </tr>\n",
       "    <tr>\n",
       "      <th>122922</th>\n",
       "      <td>22.0</td>\n",
       "      <td>3.704545</td>\n",
       "    </tr>\n",
       "    <tr>\n",
       "      <th>122924</th>\n",
       "      <td>14.0</td>\n",
       "      <td>3.071429</td>\n",
       "    </tr>\n",
       "    <tr>\n",
       "      <th>128089</th>\n",
       "      <td>1.0</td>\n",
       "      <td>4.500000</td>\n",
       "    </tr>\n",
       "  </tbody>\n",
       "</table>\n",
       "</div>"
      ],
      "text/plain": [
       "        rating          \n",
       "          size      mean\n",
       "movieId                 \n",
       "1        215.0  3.920930\n",
       "59900     15.0  2.866667\n",
       "122906    11.0  3.727273\n",
       "122912    13.0  4.000000\n",
       "122916    20.0  4.025000\n",
       "122918    27.0  3.925926\n",
       "122920    22.0  3.613636\n",
       "122922    22.0  3.704545\n",
       "122924    14.0  3.071429\n",
       "128089     1.0  4.500000"
      ]
     },
     "execution_count": 4,
     "metadata": {},
     "output_type": "execute_result"
    }
   ],
   "source": [
    "moviemean= rate.groupby('movieId').agg({'rating': [np.size, np.mean]})\n",
    "moviemean.head(10)"
   ]
  },
  {
   "cell_type": "code",
   "execution_count": 5,
   "metadata": {},
   "outputs": [],
   "source": [
    "newDF = pd.DataFrame({'movieId':moviemean.index,'rsize':moviemean['rating']['size'], 'mean':moviemean['rating']['mean']})"
   ]
  },
  {
   "cell_type": "code",
   "execution_count": 6,
   "metadata": {},
   "outputs": [],
   "source": [
    "test = [[128089,1.0]]"
   ]
  },
  {
   "cell_type": "code",
   "execution_count": 7,
   "metadata": {},
   "outputs": [],
   "source": [
    "#moviemean['rating']['size']\n",
    "X_train=newDF[['movieId','rsize']]\n",
    "y_train=newDF[['mean']]"
   ]
  },
  {
   "cell_type": "code",
   "execution_count": 8,
   "metadata": {},
   "outputs": [
    {
     "data": {
      "text/html": [
       "<div>\n",
       "<style scoped>\n",
       "    .dataframe tbody tr th:only-of-type {\n",
       "        vertical-align: middle;\n",
       "    }\n",
       "\n",
       "    .dataframe tbody tr th {\n",
       "        vertical-align: top;\n",
       "    }\n",
       "\n",
       "    .dataframe thead th {\n",
       "        text-align: right;\n",
       "    }\n",
       "</style>\n",
       "<table border=\"1\" class=\"dataframe\">\n",
       "  <thead>\n",
       "    <tr style=\"text-align: right;\">\n",
       "      <th></th>\n",
       "      <th>mean</th>\n",
       "    </tr>\n",
       "    <tr>\n",
       "      <th>movieId</th>\n",
       "      <th></th>\n",
       "    </tr>\n",
       "  </thead>\n",
       "  <tbody>\n",
       "    <tr>\n",
       "      <th>1</th>\n",
       "      <td>3.920930</td>\n",
       "    </tr>\n",
       "    <tr>\n",
       "      <th>59900</th>\n",
       "      <td>2.866667</td>\n",
       "    </tr>\n",
       "    <tr>\n",
       "      <th>122906</th>\n",
       "      <td>3.727273</td>\n",
       "    </tr>\n",
       "    <tr>\n",
       "      <th>122912</th>\n",
       "      <td>4.000000</td>\n",
       "    </tr>\n",
       "    <tr>\n",
       "      <th>122916</th>\n",
       "      <td>4.025000</td>\n",
       "    </tr>\n",
       "    <tr>\n",
       "      <th>122918</th>\n",
       "      <td>3.925926</td>\n",
       "    </tr>\n",
       "    <tr>\n",
       "      <th>122920</th>\n",
       "      <td>3.613636</td>\n",
       "    </tr>\n",
       "    <tr>\n",
       "      <th>122922</th>\n",
       "      <td>3.704545</td>\n",
       "    </tr>\n",
       "    <tr>\n",
       "      <th>122924</th>\n",
       "      <td>3.071429</td>\n",
       "    </tr>\n",
       "    <tr>\n",
       "      <th>128089</th>\n",
       "      <td>4.500000</td>\n",
       "    </tr>\n",
       "  </tbody>\n",
       "</table>\n",
       "</div>"
      ],
      "text/plain": [
       "             mean\n",
       "movieId          \n",
       "1        3.920930\n",
       "59900    2.866667\n",
       "122906   3.727273\n",
       "122912   4.000000\n",
       "122916   4.025000\n",
       "122918   3.925926\n",
       "122920   3.613636\n",
       "122922   3.704545\n",
       "122924   3.071429\n",
       "128089   4.500000"
      ]
     },
     "execution_count": 8,
     "metadata": {},
     "output_type": "execute_result"
    }
   ],
   "source": [
    "y_train"
   ]
  },
  {
   "cell_type": "code",
   "execution_count": 9,
   "metadata": {},
   "outputs": [],
   "source": [
    "y_train = y_train.astype(int)\n",
    "X_train = X_train.astype(int)"
   ]
  },
  {
   "cell_type": "code",
   "execution_count": 10,
   "metadata": {},
   "outputs": [
    {
     "name": "stderr",
     "output_type": "stream",
     "text": [
      "C:\\Users\\Shakz\\Anaconda3\\lib\\site-packages\\ipykernel_launcher.py:3: DataConversionWarning: A column-vector y was passed when a 1d array was expected. Please change the shape of y to (n_samples, ), for example using ravel().\n",
      "  This is separate from the ipykernel package so we can avoid doing imports until\n"
     ]
    },
    {
     "data": {
      "text/plain": [
       "KNeighborsClassifier(algorithm='auto', leaf_size=30, metric='minkowski',\n",
       "           metric_params=None, n_jobs=None, n_neighbors=10, p=2,\n",
       "           weights='uniform')"
      ]
     },
     "execution_count": 10,
     "metadata": {},
     "output_type": "execute_result"
    }
   ],
   "source": [
    "from sklearn.neighbors import KNeighborsClassifier  \n",
    "classifier = KNeighborsClassifier(n_neighbors=10)  \n",
    "classifier.fit(X_train, y_train)   "
   ]
  },
  {
   "cell_type": "code",
   "execution_count": 11,
   "metadata": {},
   "outputs": [
    {
     "data": {
      "text/plain": [
       "array([3])"
      ]
     },
     "execution_count": 11,
     "metadata": {},
     "output_type": "execute_result"
    }
   ],
   "source": [
    "\n",
    "\n",
    "y_pred = classifier.predict(test)\n",
    "y_pred"
   ]
  },
  {
   "cell_type": "markdown",
   "metadata": {},
   "source": [
    "<font size = 3>\n",
    "    8.\tWhat size K did you choose and why?\n",
    "</font>"
   ]
  },
  {
   "cell_type": "markdown",
   "metadata": {},
   "source": []
  },
  {
   "cell_type": "markdown",
   "metadata": {},
   "source": [
    "So I choosed k as 10 because if i use less nearest neibours then I have insuffficient data. I fi choose more neares neighbours then my accuracy is less. Because more the number of points they will be father away from eath other. So Less accurary. Less number of points, thats insuffficient data."
   ]
  },
  {
   "cell_type": "markdown",
   "metadata": {},
   "source": [
    "# Part 3: Score Prediction & Recommendation"
   ]
  },
  {
   "cell_type": "markdown",
   "metadata": {},
   "source": [
    "<font size = 3>\n",
    "    <div>Now we can build our nearest neighbor classifier and see how well our recommender does.</div>\n",
    "    <br><br>\n",
    "    <div1>9.\tUsing your K-nearest neighbors discovered in Question 07 and your movie ratings in Question 05, create a prediction of how you would rate the movie that you have seen but didn’t rate in Question 05.</div1>\n",
    "</font>"
   ]
  },
  {
   "cell_type": "markdown",
   "metadata": {},
   "source": [
    "id probably rate it a 4 beacause i do like comedy movies/standups. The prediction is a 3. So thats quiet close. Id say the prediction system is pretty good and not bad."
   ]
  },
  {
   "cell_type": "markdown",
   "metadata": {},
   "source": [
    "<font size = 3>\n",
    "    10.\tWhat methodology of prediction did you use? Why? What was the predicted rating? How does it compare to your actual feelings/how you think you would rate it? \n",
    "</font>"
   ]
  },
  {
   "cell_type": "markdown",
   "metadata": {},
   "source": [
    "I used the KNN classifier. I used X train and Y train. Then I Used my X_test to Predict my Y_test. I am actually pretty satisfies with my prediction. Cuz its close to To my rating. The predicted rating gives a positive response, so not bad."
   ]
  },
  {
   "cell_type": "markdown",
   "metadata": {},
   "source": []
  }
 ],
 "metadata": {
  "kernelspec": {
   "display_name": "Python 3",
   "language": "python",
   "name": "python3"
  },
  "language_info": {
   "codemirror_mode": {
    "name": "ipython",
    "version": 3
   },
   "file_extension": ".py",
   "mimetype": "text/x-python",
   "name": "python",
   "nbconvert_exporter": "python",
   "pygments_lexer": "ipython3",
   "version": "3.7.3"
  }
 },
 "nbformat": 4,
 "nbformat_minor": 2
}
