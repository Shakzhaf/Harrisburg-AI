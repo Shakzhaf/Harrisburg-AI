{
 "cells": [
  {
   "cell_type": "code",
   "execution_count": 4,
   "metadata": {},
   "outputs": [
    {
     "name": "stdout",
     "output_type": "stream",
     "text": [
      "2\n"
     ]
    }
   ],
   "source": [
    "print(1+1)\n",
    "\n"
   ]
  },
  {
   "cell_type": "code",
   "execution_count": 6,
   "metadata": {},
   "outputs": [
    {
     "name": "stdout",
     "output_type": "stream",
     "text": [
      "1?1\n",
      "Choose a math operation (+, -, *,/,%,**): -\n",
      "False\n"
     ]
    }
   ],
   "source": [
    "st=\"1?1\"\n",
    "print(st)\n",
    "oper = input(\"Choose a math operation (+, -, *,/,%,**): \")\n",
    "\n",
    "if oper == \"+\":\n",
    "    print(1+1==1)\n",
    "elif oper == \"-\":\n",
    "    print (1-1==1)\n",
    "elif oper == \"*\":\n",
    "    print (1*1==1)\n",
    "elif oper == \"/\":\n",
    "    print (1/1==1)\n",
    "elif oper == \"%\":\n",
    "    print (1%1==1)\n",
    "elif oper == \"**\":\n",
    "    print (1**1==1)\n",
    "  \n",
    "    \n",
    "    "
   ]
  },
  {
   "cell_type": "code",
   "execution_count": null,
   "metadata": {},
   "outputs": [],
   "source": []
  },
  {
   "cell_type": "code",
   "execution_count": 13,
   "metadata": {},
   "outputs": [
    {
     "name": "stdout",
     "output_type": "stream",
     "text": [
      "Choose a math operation (+, -, *,/,%,**): +\n",
      "2\n"
     ]
    }
   ],
   "source": [
    "oper = input(\"Choose a math operation (+, -, *,/,%,**): \")\n",
    "if oper == \"+\":\n",
    "    print(1+1)\n",
    "elif oper == \"-\":\n",
    "    print (1-1)\n",
    "elif oper == \"*\":\n",
    "    print (1*1)\n",
    "elif oper == \"/\":\n",
    "    print (1/1)\n",
    "elif oper == \"%\":\n",
    "    print (1%1)\n",
    "elif oper == \"**\":\n",
    "    print (1**1)"
   ]
  },
  {
   "cell_type": "code",
   "execution_count": null,
   "metadata": {},
   "outputs": [],
   "source": [
    "def add():\n",
    "    print(1+1==1)\n",
    "    print(1+1)\n",
    "def sub():\n",
    "    \n",
    "    \n",
    "    "
   ]
  },
  {
   "cell_type": "code",
   "execution_count": 14,
   "metadata": {},
   "outputs": [
    {
     "name": "stdout",
     "output_type": "stream",
     "text": [
      "1 + 1 = 1\n"
     ]
    }
   ],
   "source": [
    "def fun(x,y,z):\n",
    "    if(x*y==z):\n",
    "        print(x,'+', y,'=',z)\n",
    "    \n",
    "fun(1,1,1)\n",
    "    "
   ]
  },
  {
   "cell_type": "code",
   "execution_count": null,
   "metadata": {},
   "outputs": [],
   "source": []
  }
 ],
 "metadata": {
  "kernelspec": {
   "display_name": "Python 3",
   "language": "python",
   "name": "python3"
  },
  "language_info": {
   "codemirror_mode": {
    "name": "ipython",
    "version": 3
   },
   "file_extension": ".py",
   "mimetype": "text/x-python",
   "name": "python",
   "nbconvert_exporter": "python",
   "pygments_lexer": "ipython3",
   "version": "3.7.3"
  }
 },
 "nbformat": 4,
 "nbformat_minor": 2
}
