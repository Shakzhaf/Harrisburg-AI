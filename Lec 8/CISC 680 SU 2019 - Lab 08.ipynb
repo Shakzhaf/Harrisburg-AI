{
 "cells": [
  {
   "attachments": {
    "HUBanner.png": {
     "image/png": "[encoded data removed]"
    }
   },
   "cell_type": "markdown",
   "metadata": {},
   "source": [
    "![HUBanner.png](attachment:HUBanner.png)\n",
    "<br>\n",
    "# <center> CISC 680 SU 2019\n",
    "# <center> Applied Artificial Intelligence Summer Camp\n",
    "## <center> Lab Booklet #08\n",
    "## <center> Lab Title: Constraint Satisfaction & Search Techniques II: Dijkstra’s Algorithm & A*\n",
    "***\n",
    "### <center> Instructors:  Prof. Shalaan PhD, Prof. Grey M.S., Prof. Chu M.S.\n",
    "### <center> TA's:  Aditya Syal, Bao Pham, Zach Pelkey\n",
    "<br>\n",
    "<br>\n",
    "<br>\n",
    "<br>\n",
    "<br>\n",
    "<br>\n",
    "<br>\n",
    "<br>    "
   ]
  },
  {
   "cell_type": "markdown",
   "metadata": {},
   "source": [
    "# Objectives\n",
    "#### Searching problems are central to gaining an understanding of Artificial Intelligence. We will be continuing our work from the last class by implementing two classic algorithms central to the concept of modern AI: Dijkstra’s algorithm and the heuristic-based extension, A*. We will construct an algorithm so that, if fed information in the proper format, our algorithm can find the shortest path between two specified points and, potentially, display the state of the search along the way.\n",
    "\n",
    "#### After completing this lab, you will be able to:\n",
    "\n",
    "- __Create and implement a novel design for representing a graph__\n",
    "- __Understand the differences in theory and application between Dijksta’s search algorithm and A*__\n",
    "- __Understand the principle of an admissible optimistic heuristic__\n",
    "- __Design and parameterize robust and necessary output__"
   ]
  },
  {
   "cell_type": "markdown",
   "metadata": {},
   "source": [
    "# Resources\n",
    "#### While the lab will explain everything that you need to know, you may want to consult the following sources for additional knowledge:\n",
    "\n",
    "- [https://en.wikipedia.org/wiki/Dijkstra%27s_algorithm](https://en.wikipedia.org/wiki/Dijkstra%27s_algorithm)\n",
    "- [https://en.wikipedia.org/wiki/A*_search_algorithm](https://en.wikipedia.org/wiki/A*_search_algorithm)"
   ]
  },
  {
   "cell_type": "markdown",
   "metadata": {},
   "source": [
    "# Deliverables\n",
    "#### For this lab, you will need to submit:\n",
    "\n",
    "- Jupyter notebook files (.ipynb), named and coded as instructed. \n",
    "  - CISC 680 SU 2019 - Lab 08.ipynb"
   ]
  },
  {
   "cell_type": "markdown",
   "metadata": {},
   "source": [
    "# Instructions & Questions\n",
    "Dijkstra and A* both work on directed and undirected connected graphs where edge weights are non-negative. Given this we are going to need to construct a graph of this type and store it within our code. We can then pass this graph to the function which runs the search. The call to the function is to take the form:\n",
    "\n",
    "`searchXxxxx(Graph g, Node start, Node end, bit robust_output)`\n",
    "\n",
    "Where `Xxxxx` is the name of the algorithm, `Graph g` is the graph being searched, `Node start` is the starting point, `Node end` is the ending point, and `bit robust_output` represents whether the program will display more output while it is running.\n",
    "When storing your graph, you will need to store each node within the graph and the connections between the nodes. For this lab, we are going to assume that edge weights are determined by Euclidean distance. Therefore, you will also need to store the coordinate of each node.\n",
    "\n",
    "For your implementation, you will run a search using Dijkstra and A* on the graph given to determine the shortest path for `Node start` to `Node end`. The program will output the shortest path between the two nodes, the length of the path, and the number of nodes visited for each algorithm."
   ]
  },
  {
   "cell_type": "markdown",
   "metadata": {},
   "source": [
    "# <u>Part 1: Design</u>"
   ]
  },
  {
   "cell_type": "markdown",
   "metadata": {},
   "source": [
    "First, you need to determine certain design aspects regarding your solution.\n",
    "\n",
    "#### 1. Explain, in detail, how you will store your graph and nodes within your code. Be sure to explain how the data will be structured internally."
   ]
  },
  {
   "cell_type": "markdown",
   "metadata": {},
   "source": []
  },
  {
   "cell_type": "markdown",
   "metadata": {},
   "source": [
    "The data is stored in the form of a dictionary inside a dictionary. The nodes(key) are stored from a to e. And Adjacent Nodes are given as values."
   ]
  },
  {
   "cell_type": "markdown",
   "metadata": {},
   "source": [
    "\n",
    "#### 2. Explain, in detail, what additional information you will display when the <i>robust_output</i> flag is set to true. Information may be displayed before the search algorithm starts, during each iteration of searching, or after the search algorithm completes. Be sure to include when your additional data will be displayed."
   ]
  },
  {
   "cell_type": "markdown",
   "metadata": {},
   "source": []
  },
  {
   "cell_type": "code",
   "execution_count": null,
   "metadata": {},
   "outputs": [],
   "source": []
  },
  {
   "cell_type": "markdown",
   "metadata": {},
   "source": [
    "\n",
    "#### 3. What is the optimistic heuristic that you are choosing for your implementation of A*?"
   ]
  },
  {
   "cell_type": "markdown",
   "metadata": {},
   "source": []
  },
  {
   "cell_type": "markdown",
   "metadata": {},
   "source": [
    "h(x) is an underestimate, i.e. less than or less than equal to the exact cost of a lowcost path from the node to a end point. I locally choses the best path. the best neighbour is selected and distance is removed from the mode to the end point. \n",
    "Lets say a-b-c-d-t. We are calculating from a to b. Now the heuristic fuction is the cost(b->t)."
   ]
  },
  {
   "cell_type": "markdown",
   "metadata": {},
   "source": [
    "# <u>Part 2: Concept</u>"
   ]
  },
  {
   "cell_type": "markdown",
   "metadata": {},
   "source": [
    "\n",
    "#### 4. Translate the following maze into your graph storage methodology. You may document this using conceptual representations or code-based representations. Be sure to include “dead end” nodes in your graph.\n",
    "\n",
    "![Maze](maze.png)"
   ]
  },
  {
   "cell_type": "markdown",
   "metadata": {},
   "source": []
  },
  {
   "cell_type": "markdown",
   "metadata": {},
   "source": [
    "# <u>Part 3: Implementation</u>"
   ]
  },
  {
   "cell_type": "markdown",
   "metadata": {},
   "source": [
    "#### 5.\tImplement your solution for the `searchDijsktra` function. You may write any helper functions that you wish. Be sure to test this code with the graph you created in Question 4, above, as well as with any other graph examples that you wish to use."
   ]
  },
  {
   "cell_type": "code",
   "execution_count": 2,
   "metadata": {},
   "outputs": [
    {
     "name": "stdout",
     "output_type": "stream",
     "text": [
      "Path:  ['e', 'd', 'b', 'a'] Cost= 4\n",
      "None\n"
     ]
    }
   ],
   "source": [
    "#reference-https://www.growingwiththeweb.com/2012/06/a-pathfinding-algorithm.html\n",
    "#reference-http://code.activestate.com/recipes/578919-python-a-pathfinding-with-binary-heap/\n",
    "#reference-https://stackoverflow.com/questions/14362319/python-a-implementation\n",
    "#reference-http://code.activestate.com/recipes/577892-dijkstra-shortest-path-implementation/\n",
    "#refrence-http://www.gilles-bertrand.com/2014/03/dijkstra-algorithm-python-example-source-code-shortest-path.html\n",
    "G = {'a': {'b': 1, 'c': 2},\n",
    "            'b': {'c': 3, 'd': 1, 'e':5, 'a':1},\n",
    "            'c': {'d': 1, 'a': 2, 'd': 2, 'e':4},\n",
    "            'd': {'e': 2, 'b':1, 'c':1,},\n",
    "            'e': {'b': 5, 'd': 2, 'c':4}}\n",
    "def searchDijkstra(G,src,dest,visited=[],dist={},predecessors={}):\n",
    "\n",
    "    if src == dest:\n",
    "        path=[]\n",
    "        pred=dest\n",
    "        while pred != None:\n",
    "            path.append(pred)\n",
    "            pred=predecessors.get(pred)\n",
    "        print('Path: ',str(path),\"Cost=\",str(dist[dest])) \n",
    "    else :     \n",
    "        if not visited: \n",
    "            dist[src]=0\n",
    "        for neighbor in G[src] :\n",
    "            if neighbor not in visited:\n",
    "                new_dist = dist[src] + G[src][neighbor]\n",
    "                if new_dist < dist.get(neighbor,float('inf')):\n",
    "                    dist[neighbor] = new_dist\n",
    "                    predecessors[neighbor] = src\n",
    "        visited.append(src)\n",
    "        unvisited={}\n",
    "        for i in G:\n",
    "            if i not in visited:\n",
    "                unvisited[i] = dist.get(i,float('inf'))        \n",
    "        y=min(unvisited, key=unvisited.get)\n",
    "        searchDijkstra(G,y,dest,visited,dist,predecessors)\n",
    "\n",
    "print(searchDijkstra(G,'a','e'))"
   ]
  },
  {
   "cell_type": "markdown",
   "metadata": {},
   "source": [
    "\n",
    "#### 6. Implement your solution for the `searchAStar` function. You may write any helper functions that you wish. Be sure to test this code with the graph you created in Question 4, above, as well as with any other graph examples that you wish to use."
   ]
  },
  {
   "cell_type": "markdown",
   "metadata": {},
   "source": [
    "#Graph will be in coordinates x and y.\n",
    "Remove the distance from start node to adjacent nodes.\n",
    "Remove the distance from adjacent nodes to the end node.\n",
    "Add it to the cost of  b to t. \n",
    "The rest is the same as Djikstra.\n",
    "def heuristic():\n",
    "    heu=(b[0]-a[0])**2+(b[1]-a[1])**2\n",
    "    return heu\n",
    "\n"
   ]
  },
  {
   "cell_type": "code",
   "execution_count": null,
   "metadata": {},
   "outputs": [],
   "source": []
  },
  {
   "cell_type": "code",
   "execution_count": null,
   "metadata": {},
   "outputs": [],
   "source": []
  },
  {
   "cell_type": "markdown",
   "metadata": {},
   "source": [
    "\n",
    "#### 7. 7.\tHow does the performance of your `searchDijsktra` function compare with the performance of the `searchAStar` function? Explain, in detail, with whatever relevant data you have from your code."
   ]
  },
  {
   "cell_type": "markdown",
   "metadata": {},
   "source": []
  },
  {
   "cell_type": "markdown",
   "metadata": {},
   "source": [
    "Dijkstra is optimised form of A*. A* never overestimates the cost. A* is faster than Djikstra, A* gives the best solution.\n",
    "A* is greedy algorithm, it is breadth first search.\n",
    "A*= h(x)+g(x).\n",
    "Djikstra=g(x)\n",
    "h(x) is heuristic \n",
    "A* is better than Djikstra, although it requires more memory but it explored less no of nodes.\n",
    "A* kind of sees the future. So it wont need to backtrack."
   ]
  }
 ],
 "metadata": {
  "kernelspec": {
   "display_name": "Python 3",
   "language": "python",
   "name": "python3"
  },
  "language_info": {
   "codemirror_mode": {
    "name": "ipython",
    "version": 3
   },
   "file_extension": ".py",
   "mimetype": "text/x-python",
   "name": "python",
   "nbconvert_exporter": "python",
   "pygments_lexer": "ipython3",
   "version": "3.7.3"
  }
 },
 "nbformat": 4,
 "nbformat_minor": 2
}
