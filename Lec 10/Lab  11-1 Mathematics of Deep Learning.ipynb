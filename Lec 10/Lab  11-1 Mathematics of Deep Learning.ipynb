{
 "cells": [
  {
   "cell_type": "markdown",
   "metadata": {},
   "source": [
    "### <div style=\"text-align: center\"> CISC 487/ 680 SU 2019</div>\n",
    "# <div style=\"text-align: center\">Applied AI International Boot Camp</div>"
   ]
  },
  {
   "cell_type": "markdown",
   "metadata": {},
   "source": [
    "### <div style=\"text-align: center\">Lab Booklet # 11-1</div>\n",
    "## <div style=\"text-align: center\">Hands-on Mathematics of Deep Learning</div>"
   ]
  },
  {
   "cell_type": "markdown",
   "metadata": {},
   "source": [
    "#### <div style=\"text-align: center\">Majid Shalaan PhD.</div>"
   ]
  },
  {
   "cell_type": "markdown",
   "metadata": {},
   "source": [
    "### Instructions:\n",
    "pandas provides a rich set of functions and operations that facilitate the ability to perform arithmetic operations and to calculate various numerical characteristics of data. In this lab you are to be examined in terms of ability to perform the tasks given below, including:\n",
    "    - Performing arithmetic on a DataFrame or Series\n",
    "    - Getting the counts of values\n",
    "    - Determining unique values (and their counts)\n",
    "    - Finding minimum and maximum values\n",
    "    - Locating the n-smallest and n-largest values\n",
    "    - Calculating accumulated values\n",
    "The folder <b>Data</b> contains all data sets you need in this lab "
   ]
  },
  {
   "cell_type": "markdown",
   "metadata": {},
   "source": [
    "### Configuration "
   ]
  },
  {
   "cell_type": "code",
   "execution_count": 74,
   "metadata": {
    "ExecuteTime": {
     "end_time": "2019-07-06T22:01:54.389764Z",
     "start_time": "2019-07-06T22:01:54.385776Z"
    }
   },
   "outputs": [],
   "source": [
    "# import numpy, pandas , datetime, and matplotlib\n",
    "import numpy as np\n",
    "import datetime as dt\n",
    "import pandas as pd\n",
    "import matplotlib.pyplot as plt"
   ]
  },
  {
   "cell_type": "markdown",
   "metadata": {
    "ExecuteTime": {
     "end_time": "2019-07-06T04:35:53.682161Z",
     "start_time": "2019-07-06T04:35:53.677174Z"
    }
   },
   "source": [
    "### Data "
   ]
  },
  {
   "cell_type": "code",
   "execution_count": 75,
   "metadata": {
    "ExecuteTime": {
     "end_time": "2019-07-06T22:01:54.473541Z",
     "start_time": "2019-07-06T22:01:54.469552Z"
    }
   },
   "outputs": [
    {
     "data": {
      "text/html": [
       "<div>\n",
       "<style scoped>\n",
       "    .dataframe tbody tr th:only-of-type {\n",
       "        vertical-align: middle;\n",
       "    }\n",
       "\n",
       "    .dataframe tbody tr th {\n",
       "        vertical-align: top;\n",
       "    }\n",
       "\n",
       "    .dataframe thead th {\n",
       "        text-align: right;\n",
       "    }\n",
       "</style>\n",
       "<table border=\"1\" class=\"dataframe\">\n",
       "  <thead>\n",
       "    <tr style=\"text-align: right;\">\n",
       "      <th></th>\n",
       "      <th>Symbol</th>\n",
       "      <th>Sector</th>\n",
       "      <th>Price</th>\n",
       "      <th>Book Value</th>\n",
       "    </tr>\n",
       "  </thead>\n",
       "  <tbody>\n",
       "    <tr>\n",
       "      <th>0</th>\n",
       "      <td>MMM</td>\n",
       "      <td>Industrials</td>\n",
       "      <td>141.14</td>\n",
       "      <td>26.668</td>\n",
       "    </tr>\n",
       "    <tr>\n",
       "      <th>1</th>\n",
       "      <td>ABT</td>\n",
       "      <td>Health Care</td>\n",
       "      <td>39.60</td>\n",
       "      <td>15.573</td>\n",
       "    </tr>\n",
       "    <tr>\n",
       "      <th>2</th>\n",
       "      <td>ABBV</td>\n",
       "      <td>Health Care</td>\n",
       "      <td>53.95</td>\n",
       "      <td>2.954</td>\n",
       "    </tr>\n",
       "    <tr>\n",
       "      <th>3</th>\n",
       "      <td>ACN</td>\n",
       "      <td>Information Technology</td>\n",
       "      <td>79.79</td>\n",
       "      <td>8.326</td>\n",
       "    </tr>\n",
       "    <tr>\n",
       "      <th>4</th>\n",
       "      <td>ACE</td>\n",
       "      <td>Financials</td>\n",
       "      <td>102.91</td>\n",
       "      <td>86.897</td>\n",
       "    </tr>\n",
       "    <tr>\n",
       "      <th>5</th>\n",
       "      <td>ACT</td>\n",
       "      <td>Health Care</td>\n",
       "      <td>213.77</td>\n",
       "      <td>55.188</td>\n",
       "    </tr>\n",
       "    <tr>\n",
       "      <th>6</th>\n",
       "      <td>ADBE</td>\n",
       "      <td>Information Technology</td>\n",
       "      <td>64.30</td>\n",
       "      <td>13.262</td>\n",
       "    </tr>\n",
       "    <tr>\n",
       "      <th>7</th>\n",
       "      <td>AES</td>\n",
       "      <td>Utilities</td>\n",
       "      <td>13.61</td>\n",
       "      <td>5.781</td>\n",
       "    </tr>\n",
       "    <tr>\n",
       "      <th>8</th>\n",
       "      <td>AET</td>\n",
       "      <td>Health Care</td>\n",
       "      <td>76.39</td>\n",
       "      <td>40.021</td>\n",
       "    </tr>\n",
       "    <tr>\n",
       "      <th>9</th>\n",
       "      <td>AFL</td>\n",
       "      <td>Financials</td>\n",
       "      <td>61.31</td>\n",
       "      <td>34.527</td>\n",
       "    </tr>\n",
       "    <tr>\n",
       "      <th>10</th>\n",
       "      <td>A</td>\n",
       "      <td>Health Care</td>\n",
       "      <td>56.18</td>\n",
       "      <td>16.928</td>\n",
       "    </tr>\n",
       "    <tr>\n",
       "      <th>11</th>\n",
       "      <td>GAS</td>\n",
       "      <td>Utilities</td>\n",
       "      <td>52.98</td>\n",
       "      <td>32.462</td>\n",
       "    </tr>\n",
       "    <tr>\n",
       "      <th>12</th>\n",
       "      <td>APD</td>\n",
       "      <td>Materials</td>\n",
       "      <td>118.74</td>\n",
       "      <td>34.723</td>\n",
       "    </tr>\n",
       "    <tr>\n",
       "      <th>13</th>\n",
       "      <td>ARG</td>\n",
       "      <td>Materials</td>\n",
       "      <td>105.66</td>\n",
       "      <td>24.882</td>\n",
       "    </tr>\n",
       "    <tr>\n",
       "      <th>14</th>\n",
       "      <td>AKAM</td>\n",
       "      <td>Information Technology</td>\n",
       "      <td>53.65</td>\n",
       "      <td>15.193</td>\n",
       "    </tr>\n",
       "    <tr>\n",
       "      <th>15</th>\n",
       "      <td>AA</td>\n",
       "      <td>Materials</td>\n",
       "      <td>13.52</td>\n",
       "      <td>9.670</td>\n",
       "    </tr>\n",
       "    <tr>\n",
       "      <th>16</th>\n",
       "      <td>ALXN</td>\n",
       "      <td>Health Care</td>\n",
       "      <td>162.30</td>\n",
       "      <td>13.628</td>\n",
       "    </tr>\n",
       "    <tr>\n",
       "      <th>17</th>\n",
       "      <td>ATI</td>\n",
       "      <td>Materials</td>\n",
       "      <td>40.99</td>\n",
       "      <td>26.401</td>\n",
       "    </tr>\n",
       "    <tr>\n",
       "      <th>18</th>\n",
       "      <td>ALLE</td>\n",
       "      <td>Industrials</td>\n",
       "      <td>52.46</td>\n",
       "      <td>0.000</td>\n",
       "    </tr>\n",
       "    <tr>\n",
       "      <th>19</th>\n",
       "      <td>AGN</td>\n",
       "      <td>Health Care</td>\n",
       "      <td>166.92</td>\n",
       "      <td>22.207</td>\n",
       "    </tr>\n",
       "    <tr>\n",
       "      <th>20</th>\n",
       "      <td>ADS</td>\n",
       "      <td>Information Technology</td>\n",
       "      <td>248.88</td>\n",
       "      <td>17.392</td>\n",
       "    </tr>\n",
       "    <tr>\n",
       "      <th>21</th>\n",
       "      <td>ALL</td>\n",
       "      <td>Financials</td>\n",
       "      <td>58.38</td>\n",
       "      <td>47.465</td>\n",
       "    </tr>\n",
       "    <tr>\n",
       "      <th>22</th>\n",
       "      <td>ALTR</td>\n",
       "      <td>Information Technology</td>\n",
       "      <td>33.31</td>\n",
       "      <td>11.026</td>\n",
       "    </tr>\n",
       "    <tr>\n",
       "      <th>23</th>\n",
       "      <td>MO</td>\n",
       "      <td>Consumer Staples</td>\n",
       "      <td>40.68</td>\n",
       "      <td>2.072</td>\n",
       "    </tr>\n",
       "    <tr>\n",
       "      <th>24</th>\n",
       "      <td>AMZN</td>\n",
       "      <td>Consumer Discretionary</td>\n",
       "      <td>312.24</td>\n",
       "      <td>22.452</td>\n",
       "    </tr>\n",
       "    <tr>\n",
       "      <th>25</th>\n",
       "      <td>AEE</td>\n",
       "      <td>Utilities</td>\n",
       "      <td>38.64</td>\n",
       "      <td>26.847</td>\n",
       "    </tr>\n",
       "    <tr>\n",
       "      <th>26</th>\n",
       "      <td>AEP</td>\n",
       "      <td>Utilities</td>\n",
       "      <td>51.41</td>\n",
       "      <td>33.635</td>\n",
       "    </tr>\n",
       "    <tr>\n",
       "      <th>27</th>\n",
       "      <td>AXP</td>\n",
       "      <td>Financials</td>\n",
       "      <td>88.78</td>\n",
       "      <td>18.846</td>\n",
       "    </tr>\n",
       "    <tr>\n",
       "      <th>28</th>\n",
       "      <td>AIG</td>\n",
       "      <td>Financials</td>\n",
       "      <td>53.60</td>\n",
       "      <td>71.775</td>\n",
       "    </tr>\n",
       "    <tr>\n",
       "      <th>29</th>\n",
       "      <td>AMT</td>\n",
       "      <td>Financials</td>\n",
       "      <td>88.41</td>\n",
       "      <td>9.279</td>\n",
       "    </tr>\n",
       "    <tr>\n",
       "      <th>...</th>\n",
       "      <td>...</td>\n",
       "      <td>...</td>\n",
       "      <td>...</td>\n",
       "      <td>...</td>\n",
       "    </tr>\n",
       "    <tr>\n",
       "      <th>470</th>\n",
       "      <td>VIAB</td>\n",
       "      <td>Consumer Discretionary</td>\n",
       "      <td>84.99</td>\n",
       "      <td>10.253</td>\n",
       "    </tr>\n",
       "    <tr>\n",
       "      <th>471</th>\n",
       "      <td>V</td>\n",
       "      <td>Information Technology</td>\n",
       "      <td>212.07</td>\n",
       "      <td>43.391</td>\n",
       "    </tr>\n",
       "    <tr>\n",
       "      <th>472</th>\n",
       "      <td>VNO</td>\n",
       "      <td>Financials</td>\n",
       "      <td>105.32</td>\n",
       "      <td>28.243</td>\n",
       "    </tr>\n",
       "    <tr>\n",
       "      <th>473</th>\n",
       "      <td>VMC</td>\n",
       "      <td>Materials</td>\n",
       "      <td>61.19</td>\n",
       "      <td>30.819</td>\n",
       "    </tr>\n",
       "    <tr>\n",
       "      <th>474</th>\n",
       "      <td>WMT</td>\n",
       "      <td>Consumer Staples</td>\n",
       "      <td>75.61</td>\n",
       "      <td>22.607</td>\n",
       "    </tr>\n",
       "    <tr>\n",
       "      <th>475</th>\n",
       "      <td>WAG</td>\n",
       "      <td>Consumer Staples</td>\n",
       "      <td>69.79</td>\n",
       "      <td>21.779</td>\n",
       "    </tr>\n",
       "    <tr>\n",
       "      <th>476</th>\n",
       "      <td>DIS</td>\n",
       "      <td>Consumer Discretionary</td>\n",
       "      <td>83.32</td>\n",
       "      <td>26.405</td>\n",
       "    </tr>\n",
       "    <tr>\n",
       "      <th>477</th>\n",
       "      <td>WM</td>\n",
       "      <td>Industrials</td>\n",
       "      <td>43.37</td>\n",
       "      <td>12.330</td>\n",
       "    </tr>\n",
       "    <tr>\n",
       "      <th>478</th>\n",
       "      <td>WAT</td>\n",
       "      <td>Health Care</td>\n",
       "      <td>100.54</td>\n",
       "      <td>21.460</td>\n",
       "    </tr>\n",
       "    <tr>\n",
       "      <th>479</th>\n",
       "      <td>WLP</td>\n",
       "      <td>Health Care</td>\n",
       "      <td>108.82</td>\n",
       "      <td>86.358</td>\n",
       "    </tr>\n",
       "    <tr>\n",
       "      <th>480</th>\n",
       "      <td>WFC</td>\n",
       "      <td>Financials</td>\n",
       "      <td>50.16</td>\n",
       "      <td>30.479</td>\n",
       "    </tr>\n",
       "    <tr>\n",
       "      <th>481</th>\n",
       "      <td>WDC</td>\n",
       "      <td>Information Technology</td>\n",
       "      <td>84.83</td>\n",
       "      <td>37.311</td>\n",
       "    </tr>\n",
       "    <tr>\n",
       "      <th>482</th>\n",
       "      <td>WU</td>\n",
       "      <td>Information Technology</td>\n",
       "      <td>15.77</td>\n",
       "      <td>1.981</td>\n",
       "    </tr>\n",
       "    <tr>\n",
       "      <th>483</th>\n",
       "      <td>WY</td>\n",
       "      <td>Financials</td>\n",
       "      <td>30.87</td>\n",
       "      <td>11.690</td>\n",
       "    </tr>\n",
       "    <tr>\n",
       "      <th>484</th>\n",
       "      <td>WHR</td>\n",
       "      <td>Consumer Discretionary</td>\n",
       "      <td>147.26</td>\n",
       "      <td>66.221</td>\n",
       "    </tr>\n",
       "    <tr>\n",
       "      <th>485</th>\n",
       "      <td>WFM</td>\n",
       "      <td>Consumer Staples</td>\n",
       "      <td>37.78</td>\n",
       "      <td>10.867</td>\n",
       "    </tr>\n",
       "    <tr>\n",
       "      <th>486</th>\n",
       "      <td>WIN</td>\n",
       "      <td>Telecommunications Services</td>\n",
       "      <td>9.38</td>\n",
       "      <td>1.199</td>\n",
       "    </tr>\n",
       "    <tr>\n",
       "      <th>487</th>\n",
       "      <td>WEC</td>\n",
       "      <td>Utilities</td>\n",
       "      <td>45.13</td>\n",
       "      <td>19.165</td>\n",
       "    </tr>\n",
       "    <tr>\n",
       "      <th>488</th>\n",
       "      <td>WYN</td>\n",
       "      <td>Consumer Discretionary</td>\n",
       "      <td>72.22</td>\n",
       "      <td>11.984</td>\n",
       "    </tr>\n",
       "    <tr>\n",
       "      <th>489</th>\n",
       "      <td>WYNN</td>\n",
       "      <td>Consumer Discretionary</td>\n",
       "      <td>207.86</td>\n",
       "      <td>-0.719</td>\n",
       "    </tr>\n",
       "    <tr>\n",
       "      <th>490</th>\n",
       "      <td>XEL</td>\n",
       "      <td>Utilities</td>\n",
       "      <td>30.24</td>\n",
       "      <td>19.450</td>\n",
       "    </tr>\n",
       "    <tr>\n",
       "      <th>491</th>\n",
       "      <td>XRX</td>\n",
       "      <td>Information Technology</td>\n",
       "      <td>12.06</td>\n",
       "      <td>10.471</td>\n",
       "    </tr>\n",
       "    <tr>\n",
       "      <th>492</th>\n",
       "      <td>XLNX</td>\n",
       "      <td>Information Technology</td>\n",
       "      <td>46.03</td>\n",
       "      <td>10.247</td>\n",
       "    </tr>\n",
       "    <tr>\n",
       "      <th>493</th>\n",
       "      <td>XL</td>\n",
       "      <td>Financials</td>\n",
       "      <td>32.47</td>\n",
       "      <td>37.451</td>\n",
       "    </tr>\n",
       "    <tr>\n",
       "      <th>494</th>\n",
       "      <td>XYL</td>\n",
       "      <td>Industrials</td>\n",
       "      <td>38.42</td>\n",
       "      <td>12.127</td>\n",
       "    </tr>\n",
       "    <tr>\n",
       "      <th>495</th>\n",
       "      <td>YHOO</td>\n",
       "      <td>Information Technology</td>\n",
       "      <td>35.02</td>\n",
       "      <td>12.768</td>\n",
       "    </tr>\n",
       "    <tr>\n",
       "      <th>496</th>\n",
       "      <td>YUM</td>\n",
       "      <td>Consumer Discretionary</td>\n",
       "      <td>74.77</td>\n",
       "      <td>5.147</td>\n",
       "    </tr>\n",
       "    <tr>\n",
       "      <th>497</th>\n",
       "      <td>ZMH</td>\n",
       "      <td>Health Care</td>\n",
       "      <td>101.84</td>\n",
       "      <td>37.181</td>\n",
       "    </tr>\n",
       "    <tr>\n",
       "      <th>498</th>\n",
       "      <td>ZION</td>\n",
       "      <td>Financials</td>\n",
       "      <td>28.43</td>\n",
       "      <td>30.191</td>\n",
       "    </tr>\n",
       "    <tr>\n",
       "      <th>499</th>\n",
       "      <td>ZTS</td>\n",
       "      <td>Health Care</td>\n",
       "      <td>30.53</td>\n",
       "      <td>2.150</td>\n",
       "    </tr>\n",
       "  </tbody>\n",
       "</table>\n",
       "<p>500 rows × 4 columns</p>\n",
       "</div>"
      ],
      "text/plain": [
       "    Symbol                       Sector   Price  Book Value\n",
       "0      MMM                  Industrials  141.14      26.668\n",
       "1      ABT                  Health Care   39.60      15.573\n",
       "2     ABBV                  Health Care   53.95       2.954\n",
       "3      ACN       Information Technology   79.79       8.326\n",
       "4      ACE                   Financials  102.91      86.897\n",
       "5      ACT                  Health Care  213.77      55.188\n",
       "6     ADBE       Information Technology   64.30      13.262\n",
       "7      AES                    Utilities   13.61       5.781\n",
       "8      AET                  Health Care   76.39      40.021\n",
       "9      AFL                   Financials   61.31      34.527\n",
       "10       A                  Health Care   56.18      16.928\n",
       "11     GAS                    Utilities   52.98      32.462\n",
       "12     APD                    Materials  118.74      34.723\n",
       "13     ARG                    Materials  105.66      24.882\n",
       "14    AKAM       Information Technology   53.65      15.193\n",
       "15      AA                    Materials   13.52       9.670\n",
       "16    ALXN                  Health Care  162.30      13.628\n",
       "17     ATI                    Materials   40.99      26.401\n",
       "18    ALLE                  Industrials   52.46       0.000\n",
       "19     AGN                  Health Care  166.92      22.207\n",
       "20     ADS       Information Technology  248.88      17.392\n",
       "21     ALL                   Financials   58.38      47.465\n",
       "22    ALTR       Information Technology   33.31      11.026\n",
       "23      MO             Consumer Staples   40.68       2.072\n",
       "24    AMZN       Consumer Discretionary  312.24      22.452\n",
       "25     AEE                    Utilities   38.64      26.847\n",
       "26     AEP                    Utilities   51.41      33.635\n",
       "27     AXP                   Financials   88.78      18.846\n",
       "28     AIG                   Financials   53.60      71.775\n",
       "29     AMT                   Financials   88.41       9.279\n",
       "..     ...                          ...     ...         ...\n",
       "470   VIAB       Consumer Discretionary   84.99      10.253\n",
       "471      V       Information Technology  212.07      43.391\n",
       "472    VNO                   Financials  105.32      28.243\n",
       "473    VMC                    Materials   61.19      30.819\n",
       "474    WMT             Consumer Staples   75.61      22.607\n",
       "475    WAG             Consumer Staples   69.79      21.779\n",
       "476    DIS       Consumer Discretionary   83.32      26.405\n",
       "477     WM                  Industrials   43.37      12.330\n",
       "478    WAT                  Health Care  100.54      21.460\n",
       "479    WLP                  Health Care  108.82      86.358\n",
       "480    WFC                   Financials   50.16      30.479\n",
       "481    WDC       Information Technology   84.83      37.311\n",
       "482     WU       Information Technology   15.77       1.981\n",
       "483     WY                   Financials   30.87      11.690\n",
       "484    WHR       Consumer Discretionary  147.26      66.221\n",
       "485    WFM             Consumer Staples   37.78      10.867\n",
       "486    WIN  Telecommunications Services    9.38       1.199\n",
       "487    WEC                    Utilities   45.13      19.165\n",
       "488    WYN       Consumer Discretionary   72.22      11.984\n",
       "489   WYNN       Consumer Discretionary  207.86      -0.719\n",
       "490    XEL                    Utilities   30.24      19.450\n",
       "491    XRX       Information Technology   12.06      10.471\n",
       "492   XLNX       Information Technology   46.03      10.247\n",
       "493     XL                   Financials   32.47      37.451\n",
       "494    XYL                  Industrials   38.42      12.127\n",
       "495   YHOO       Information Technology   35.02      12.768\n",
       "496    YUM       Consumer Discretionary   74.77       5.147\n",
       "497    ZMH                  Health Care  101.84      37.181\n",
       "498   ZION                   Financials   28.43      30.191\n",
       "499    ZTS                  Health Care   30.53       2.150\n",
       "\n",
       "[500 rows x 4 columns]"
      ]
     },
     "execution_count": 75,
     "metadata": {},
     "output_type": "execute_result"
    }
   ],
   "source": [
    "# read in the data from (\"data/sp500.csv\") and print the first five rows\n",
    "\n",
    "# use the Symbol column as the index, and \n",
    "\n",
    "# only read in columns in positions 0, 2, 3, 7\n",
    "\n",
    "# bring one month of stock history data from (\"data/omh.csv\")\n",
    "df = pd.read_csv('sp500.csv', usecols = [0,2,3,7])\n",
    "ef = pd.read_csv('omh.csv')\n",
    "df"
   ]
  },
  {
   "cell_type": "markdown",
   "metadata": {},
   "source": [
    "### Performing arithmetic on a DataFrame or Series"
   ]
  },
  {
   "cell_type": "code",
   "execution_count": 76,
   "metadata": {
    "ExecuteTime": {
     "end_time": "2019-07-06T22:01:54.556321Z",
     "start_time": "2019-07-06T22:01:54.551333Z"
    }
   },
   "outputs": [
    {
     "data": {
      "text/html": [
       "<div>\n",
       "<style scoped>\n",
       "    .dataframe tbody tr th:only-of-type {\n",
       "        vertical-align: middle;\n",
       "    }\n",
       "\n",
       "    .dataframe tbody tr th {\n",
       "        vertical-align: top;\n",
       "    }\n",
       "\n",
       "    .dataframe thead th {\n",
       "        text-align: right;\n",
       "    }\n",
       "</style>\n",
       "<table border=\"1\" class=\"dataframe\">\n",
       "  <thead>\n",
       "    <tr style=\"text-align: right;\">\n",
       "      <th></th>\n",
       "      <th>A</th>\n",
       "      <th>B</th>\n",
       "      <th>C</th>\n",
       "      <th>D</th>\n",
       "    </tr>\n",
       "  </thead>\n",
       "  <tbody>\n",
       "    <tr>\n",
       "      <th>0</th>\n",
       "      <td>0.469112</td>\n",
       "      <td>-0.282863</td>\n",
       "      <td>-1.509059</td>\n",
       "      <td>-1.135632</td>\n",
       "    </tr>\n",
       "    <tr>\n",
       "      <th>1</th>\n",
       "      <td>1.212112</td>\n",
       "      <td>-0.173215</td>\n",
       "      <td>0.119209</td>\n",
       "      <td>-1.044236</td>\n",
       "    </tr>\n",
       "    <tr>\n",
       "      <th>2</th>\n",
       "      <td>-0.861849</td>\n",
       "      <td>-2.104569</td>\n",
       "      <td>-0.494929</td>\n",
       "      <td>1.071804</td>\n",
       "    </tr>\n",
       "    <tr>\n",
       "      <th>3</th>\n",
       "      <td>0.721555</td>\n",
       "      <td>-0.706771</td>\n",
       "      <td>-1.039575</td>\n",
       "      <td>0.271860</td>\n",
       "    </tr>\n",
       "    <tr>\n",
       "      <th>4</th>\n",
       "      <td>-0.424972</td>\n",
       "      <td>0.567020</td>\n",
       "      <td>0.276232</td>\n",
       "      <td>-1.087401</td>\n",
       "    </tr>\n",
       "  </tbody>\n",
       "</table>\n",
       "</div>"
      ],
      "text/plain": [
       "          A         B         C         D\n",
       "0  0.469112 -0.282863 -1.509059 -1.135632\n",
       "1  1.212112 -0.173215  0.119209 -1.044236\n",
       "2 -0.861849 -2.104569 -0.494929  1.071804\n",
       "3  0.721555 -0.706771 -1.039575  0.271860\n",
       "4 -0.424972  0.567020  0.276232 -1.087401"
      ]
     },
     "execution_count": 76,
     "metadata": {},
     "output_type": "execute_result"
    }
   ],
   "source": [
    "# set the seed to allow replicatable results\n",
    "\n",
    "# create the DataFrame\n",
    "np.random.seed(123456)\n",
    "df1=pd.DataFrame(np.random.randn(5,4), columns=['A','B','C','D'])\n",
    "df1\n"
   ]
  },
  {
   "cell_type": "code",
   "execution_count": 77,
   "metadata": {
    "ExecuteTime": {
     "end_time": "2019-07-06T22:01:54.569286Z",
     "start_time": "2019-07-06T22:01:54.559312Z"
    }
   },
   "outputs": [
    {
     "data": {
      "text/html": [
       "<div>\n",
       "<style scoped>\n",
       "    .dataframe tbody tr th:only-of-type {\n",
       "        vertical-align: middle;\n",
       "    }\n",
       "\n",
       "    .dataframe tbody tr th {\n",
       "        vertical-align: top;\n",
       "    }\n",
       "\n",
       "    .dataframe thead th {\n",
       "        text-align: right;\n",
       "    }\n",
       "</style>\n",
       "<table border=\"1\" class=\"dataframe\">\n",
       "  <thead>\n",
       "    <tr style=\"text-align: right;\">\n",
       "      <th></th>\n",
       "      <th>A</th>\n",
       "      <th>B</th>\n",
       "      <th>C</th>\n",
       "      <th>D</th>\n",
       "    </tr>\n",
       "  </thead>\n",
       "  <tbody>\n",
       "    <tr>\n",
       "      <th>0</th>\n",
       "      <td>0.938225</td>\n",
       "      <td>-0.565727</td>\n",
       "      <td>-3.018117</td>\n",
       "      <td>-2.271265</td>\n",
       "    </tr>\n",
       "    <tr>\n",
       "      <th>1</th>\n",
       "      <td>2.424224</td>\n",
       "      <td>-0.346429</td>\n",
       "      <td>0.238417</td>\n",
       "      <td>-2.088472</td>\n",
       "    </tr>\n",
       "    <tr>\n",
       "      <th>2</th>\n",
       "      <td>-1.723698</td>\n",
       "      <td>-4.209138</td>\n",
       "      <td>-0.989859</td>\n",
       "      <td>2.143608</td>\n",
       "    </tr>\n",
       "    <tr>\n",
       "      <th>3</th>\n",
       "      <td>1.443110</td>\n",
       "      <td>-1.413542</td>\n",
       "      <td>-2.079150</td>\n",
       "      <td>0.543720</td>\n",
       "    </tr>\n",
       "    <tr>\n",
       "      <th>4</th>\n",
       "      <td>-0.849945</td>\n",
       "      <td>1.134041</td>\n",
       "      <td>0.552464</td>\n",
       "      <td>-2.174801</td>\n",
       "    </tr>\n",
       "  </tbody>\n",
       "</table>\n",
       "</div>"
      ],
      "text/plain": [
       "          A         B         C         D\n",
       "0  0.938225 -0.565727 -3.018117 -2.271265\n",
       "1  2.424224 -0.346429  0.238417 -2.088472\n",
       "2 -1.723698 -4.209138 -0.989859  2.143608\n",
       "3  1.443110 -1.413542 -2.079150  0.543720\n",
       "4 -0.849945  1.134041  0.552464 -2.174801"
      ]
     },
     "execution_count": 77,
     "metadata": {},
     "output_type": "execute_result"
    }
   ],
   "source": [
    "# multiply everything by 2\n",
    "df1*2\n"
   ]
  },
  {
   "cell_type": "code",
   "execution_count": 78,
   "metadata": {
    "ExecuteTime": {
     "end_time": "2019-07-06T22:01:54.582251Z",
     "start_time": "2019-07-06T22:01:54.573276Z"
    }
   },
   "outputs": [
    {
     "data": {
      "text/html": [
       "<div>\n",
       "<style scoped>\n",
       "    .dataframe tbody tr th:only-of-type {\n",
       "        vertical-align: middle;\n",
       "    }\n",
       "\n",
       "    .dataframe tbody tr th {\n",
       "        vertical-align: top;\n",
       "    }\n",
       "\n",
       "    .dataframe thead th {\n",
       "        text-align: right;\n",
       "    }\n",
       "</style>\n",
       "<table border=\"1\" class=\"dataframe\">\n",
       "  <thead>\n",
       "    <tr style=\"text-align: right;\">\n",
       "      <th></th>\n",
       "      <th>A</th>\n",
       "      <th>B</th>\n",
       "      <th>C</th>\n",
       "      <th>D</th>\n",
       "    </tr>\n",
       "  </thead>\n",
       "  <tbody>\n",
       "    <tr>\n",
       "      <th>0</th>\n",
       "      <td>0.000000</td>\n",
       "      <td>0.000000</td>\n",
       "      <td>0.000000</td>\n",
       "      <td>0.000000</td>\n",
       "    </tr>\n",
       "    <tr>\n",
       "      <th>1</th>\n",
       "      <td>0.743000</td>\n",
       "      <td>0.109649</td>\n",
       "      <td>1.628267</td>\n",
       "      <td>0.091396</td>\n",
       "    </tr>\n",
       "    <tr>\n",
       "      <th>2</th>\n",
       "      <td>-1.330961</td>\n",
       "      <td>-1.821706</td>\n",
       "      <td>1.014129</td>\n",
       "      <td>2.207436</td>\n",
       "    </tr>\n",
       "    <tr>\n",
       "      <th>3</th>\n",
       "      <td>0.252443</td>\n",
       "      <td>-0.423908</td>\n",
       "      <td>0.469484</td>\n",
       "      <td>1.407492</td>\n",
       "    </tr>\n",
       "    <tr>\n",
       "      <th>4</th>\n",
       "      <td>-0.894085</td>\n",
       "      <td>0.849884</td>\n",
       "      <td>1.785291</td>\n",
       "      <td>0.048232</td>\n",
       "    </tr>\n",
       "  </tbody>\n",
       "</table>\n",
       "</div>"
      ],
      "text/plain": [
       "          A         B         C         D\n",
       "0  0.000000  0.000000  0.000000  0.000000\n",
       "1  0.743000  0.109649  1.628267  0.091396\n",
       "2 -1.330961 -1.821706  1.014129  2.207436\n",
       "3  0.252443 -0.423908  0.469484  1.407492\n",
       "4 -0.894085  0.849884  1.785291  0.048232"
      ]
     },
     "execution_count": 78,
     "metadata": {},
     "output_type": "execute_result"
    }
   ],
   "source": [
    "#y=df.head(0)\n",
    "#df-df.head(0)\n",
    "# subtract first row from every row of the DataFrame\n",
    "y=df1.iloc[0]\n",
    "difference = df1 - y\n",
    "difference"
   ]
  },
  {
   "cell_type": "code",
   "execution_count": 79,
   "metadata": {
    "ExecuteTime": {
     "end_time": "2019-07-06T22:01:54.594219Z",
     "start_time": "2019-07-06T22:01:54.585244Z"
    }
   },
   "outputs": [
    {
     "name": "stdout",
     "output_type": "stream",
     "text": [
      "A    0.469112\n",
      "B   -0.282863\n",
      "C   -1.509059\n",
      "D   -1.135632\n",
      "Name: 0, dtype: float64\n"
     ]
    },
    {
     "data": {
      "text/html": [
       "<div>\n",
       "<style scoped>\n",
       "    .dataframe tbody tr th:only-of-type {\n",
       "        vertical-align: middle;\n",
       "    }\n",
       "\n",
       "    .dataframe tbody tr th {\n",
       "        vertical-align: top;\n",
       "    }\n",
       "\n",
       "    .dataframe thead th {\n",
       "        text-align: right;\n",
       "    }\n",
       "</style>\n",
       "<table border=\"1\" class=\"dataframe\">\n",
       "  <thead>\n",
       "    <tr style=\"text-align: right;\">\n",
       "      <th></th>\n",
       "      <th>A</th>\n",
       "      <th>B</th>\n",
       "      <th>C</th>\n",
       "      <th>D</th>\n",
       "    </tr>\n",
       "  </thead>\n",
       "  <tbody>\n",
       "    <tr>\n",
       "      <th>0</th>\n",
       "      <td>0.000000</td>\n",
       "      <td>0.000000</td>\n",
       "      <td>0.000000</td>\n",
       "      <td>0.000000</td>\n",
       "    </tr>\n",
       "    <tr>\n",
       "      <th>1</th>\n",
       "      <td>-0.743000</td>\n",
       "      <td>-0.109649</td>\n",
       "      <td>-1.628267</td>\n",
       "      <td>-0.091396</td>\n",
       "    </tr>\n",
       "    <tr>\n",
       "      <th>2</th>\n",
       "      <td>1.330961</td>\n",
       "      <td>1.821706</td>\n",
       "      <td>-1.014129</td>\n",
       "      <td>-2.207436</td>\n",
       "    </tr>\n",
       "    <tr>\n",
       "      <th>3</th>\n",
       "      <td>-0.252443</td>\n",
       "      <td>0.423908</td>\n",
       "      <td>-0.469484</td>\n",
       "      <td>-1.407492</td>\n",
       "    </tr>\n",
       "    <tr>\n",
       "      <th>4</th>\n",
       "      <td>0.894085</td>\n",
       "      <td>-0.849884</td>\n",
       "      <td>-1.785291</td>\n",
       "      <td>-0.048232</td>\n",
       "    </tr>\n",
       "  </tbody>\n",
       "</table>\n",
       "</div>"
      ],
      "text/plain": [
       "          A         B         C         D\n",
       "0  0.000000  0.000000  0.000000  0.000000\n",
       "1 -0.743000 -0.109649 -1.628267 -0.091396\n",
       "2  1.330961  1.821706 -1.014129 -2.207436\n",
       "3 -0.252443  0.423908 -0.469484 -1.407492\n",
       "4  0.894085 -0.849884 -1.785291 -0.048232"
      ]
     },
     "execution_count": 79,
     "metadata": {},
     "output_type": "execute_result"
    }
   ],
   "source": [
    "# subtract DataFrame from Series\n",
    "print(y)\n",
    "revdiff = y - df1\n",
    "revdiff"
   ]
  },
  {
   "cell_type": "code",
   "execution_count": 80,
   "metadata": {
    "ExecuteTime": {
     "end_time": "2019-07-06T22:01:54.605189Z",
     "start_time": "2019-07-06T22:01:54.597210Z"
    }
   },
   "outputs": [],
   "source": [
    "# B, C\n",
    "\n",
    "# add E\n",
    "\n",
    "# see how alignment is applied in math\n",
    "b=df1['B']\n",
    "c=df1['C']\n",
    "\n",
    "df1['E']=0\n",
    "#df1"
   ]
  },
  {
   "cell_type": "code",
   "execution_count": 81,
   "metadata": {},
   "outputs": [
    {
     "data": {
      "text/plain": [
       "(0   -0.282863\n",
       " 1   -0.173215\n",
       " 2   -2.104569\n",
       " 3   -0.706771\n",
       " 4    0.567020\n",
       " Name: B, dtype: float64, 0   -1.509059\n",
       " 1    0.119209\n",
       " 2   -0.494929\n",
       " 3   -1.039575\n",
       " 4    0.276232\n",
       " Name: C, dtype: float64)"
      ]
     },
     "execution_count": 81,
     "metadata": {},
     "output_type": "execute_result"
    }
   ],
   "source": [
    "b,c"
   ]
  },
  {
   "cell_type": "code",
   "execution_count": 82,
   "metadata": {
    "ExecuteTime": {
     "end_time": "2019-07-06T22:01:54.618155Z",
     "start_time": "2019-07-06T22:01:54.608181Z"
    }
   },
   "outputs": [
    {
     "name": "stdout",
     "output_type": "stream",
     "text": [
      "-0.2828633443286633 -1.5090585031735124\n"
     ]
    }
   ],
   "source": [
    "# get rows 1 th d only B, C columns\n",
    " \n",
    "# we have extracted a little square in the middle of df\n",
    "print(df1['B'][0],df1['C'][0])"
   ]
  },
  {
   "cell_type": "code",
   "execution_count": 83,
   "metadata": {
    "ExecuteTime": {
     "end_time": "2019-07-06T22:01:54.629125Z",
     "start_time": "2019-07-06T22:01:54.620148Z"
    }
   },
   "outputs": [],
   "source": [
    "# demonstrate the alignment of the subtraction\n"
   ]
  },
  {
   "cell_type": "code",
   "execution_count": 84,
   "metadata": {
    "ExecuteTime": {
     "end_time": "2019-07-06T22:01:54.640095Z",
     "start_time": "2019-07-06T22:01:54.632118Z"
    }
   },
   "outputs": [
    {
     "data": {
      "text/plain": [
       "0    0.469112\n",
       "1    1.212112\n",
       "2   -0.861849\n",
       "3    0.721555\n",
       "4   -0.424972\n",
       "Name: A, dtype: float64"
      ]
     },
     "execution_count": 84,
     "metadata": {},
     "output_type": "execute_result"
    }
   ],
   "source": [
    "df1['A']\n",
    " "
   ]
  },
  {
   "cell_type": "markdown",
   "metadata": {},
   "source": [
    "### Counts of values"
   ]
  },
  {
   "cell_type": "code",
   "execution_count": 85,
   "metadata": {
    "ExecuteTime": {
     "end_time": "2019-07-06T22:01:54.684975Z",
     "start_time": "2019-07-06T22:01:54.681983Z"
    }
   },
   "outputs": [
    {
     "data": {
      "text/plain": [
       "6    2\n",
       "5    2\n",
       "4    2\n",
       "3    2\n",
       "2    2\n",
       "1    2\n",
       "9    1\n",
       "8    1\n",
       "7    1\n",
       "dtype: int64"
      ]
     },
     "execution_count": 85,
     "metadata": {},
     "output_type": "execute_result"
    }
   ],
   "source": [
    "# define a series s\n",
    " \n",
    "# number of occurrences of each unique value in s\n",
    "s=[1,2,3,4,5,6,7,8,9,1,2,3,4,5,6]\n",
    "ser=pd.Series(s)\n",
    "a1=ser.value_counts()\n",
    "a1"
   ]
  },
  {
   "cell_type": "markdown",
   "metadata": {},
   "source": [
    "### Unique and number of unique values"
   ]
  },
  {
   "cell_type": "code",
   "execution_count": 86,
   "metadata": {
    "ExecuteTime": {
     "end_time": "2019-07-06T22:01:54.763766Z",
     "start_time": "2019-07-06T22:01:54.760774Z"
    }
   },
   "outputs": [
    {
     "data": {
      "text/plain": [
       "{1, 2, 3, 4, 5, 6, 7, 8, 9}"
      ]
     },
     "execution_count": 86,
     "metadata": {},
     "output_type": "execute_result"
    }
   ],
   "source": [
    "# return a list of unique items\n",
    "\n",
    "set(ser)\n",
    " "
   ]
  },
  {
   "cell_type": "code",
   "execution_count": 87,
   "metadata": {
    "ExecuteTime": {
     "end_time": "2019-07-06T22:01:54.776730Z",
     "start_time": "2019-07-06T22:01:54.770747Z"
    }
   },
   "outputs": [
    {
     "data": {
      "text/plain": [
       "6    2\n",
       "5    2\n",
       "4    2\n",
       "3    2\n",
       "2    2\n",
       "1    2\n",
       "9    1\n",
       "8    1\n",
       "7    1\n",
       "dtype: int64"
      ]
     },
     "execution_count": 87,
     "metadata": {},
     "output_type": "execute_result"
    }
   ],
   "source": [
    "# get summary stats on non-numeric data\n",
    "ser.value_counts()"
   ]
  },
  {
   "cell_type": "markdown",
   "metadata": {},
   "source": [
    "### Minimum and maximums"
   ]
  },
  {
   "cell_type": "code",
   "execution_count": 88,
   "metadata": {
    "ExecuteTime": {
     "end_time": "2019-07-06T22:01:54.845547Z",
     "start_time": "2019-07-06T22:01:54.841557Z"
    }
   },
   "outputs": [
    {
     "data": {
      "text/html": [
       "<div>\n",
       "<style scoped>\n",
       "    .dataframe tbody tr th:only-of-type {\n",
       "        vertical-align: middle;\n",
       "    }\n",
       "\n",
       "    .dataframe tbody tr th {\n",
       "        vertical-align: top;\n",
       "    }\n",
       "\n",
       "    .dataframe thead th {\n",
       "        text-align: right;\n",
       "    }\n",
       "</style>\n",
       "<table border=\"1\" class=\"dataframe\">\n",
       "  <thead>\n",
       "    <tr style=\"text-align: right;\">\n",
       "      <th></th>\n",
       "      <th>MSFT</th>\n",
       "      <th>AAPL</th>\n",
       "    </tr>\n",
       "  </thead>\n",
       "  <tbody>\n",
       "    <tr>\n",
       "      <th>count</th>\n",
       "      <td>22.000000</td>\n",
       "      <td>22.000000</td>\n",
       "    </tr>\n",
       "    <tr>\n",
       "      <th>mean</th>\n",
       "      <td>47.493182</td>\n",
       "      <td>112.411364</td>\n",
       "    </tr>\n",
       "    <tr>\n",
       "      <th>std</th>\n",
       "      <td>0.933077</td>\n",
       "      <td>2.388772</td>\n",
       "    </tr>\n",
       "    <tr>\n",
       "      <th>min</th>\n",
       "      <td>45.160000</td>\n",
       "      <td>106.750000</td>\n",
       "    </tr>\n",
       "    <tr>\n",
       "      <th>25%</th>\n",
       "      <td>46.967500</td>\n",
       "      <td>111.660000</td>\n",
       "    </tr>\n",
       "    <tr>\n",
       "      <th>50%</th>\n",
       "      <td>47.625000</td>\n",
       "      <td>112.530000</td>\n",
       "    </tr>\n",
       "    <tr>\n",
       "      <th>75%</th>\n",
       "      <td>48.125000</td>\n",
       "      <td>114.087500</td>\n",
       "    </tr>\n",
       "    <tr>\n",
       "      <th>max</th>\n",
       "      <td>48.840000</td>\n",
       "      <td>115.930000</td>\n",
       "    </tr>\n",
       "  </tbody>\n",
       "</table>\n",
       "</div>"
      ],
      "text/plain": [
       "            MSFT        AAPL\n",
       "count  22.000000   22.000000\n",
       "mean   47.493182  112.411364\n",
       "std     0.933077    2.388772\n",
       "min    45.160000  106.750000\n",
       "25%    46.967500  111.660000\n",
       "50%    47.625000  112.530000\n",
       "75%    48.125000  114.087500\n",
       "max    48.840000  115.930000"
      ]
     },
     "execution_count": 88,
     "metadata": {},
     "output_type": "execute_result"
    }
   ],
   "source": [
    "# locate min price for both stocks\n",
    "ef.describe()\n",
    "\n",
    " "
   ]
  },
  {
   "cell_type": "code",
   "execution_count": 89,
   "metadata": {
    "ExecuteTime": {
     "end_time": "2019-07-06T22:01:54.859510Z",
     "start_time": "2019-07-06T22:01:54.848539Z"
    }
   },
   "outputs": [
    {
     "data": {
      "text/plain": [
       "MSFT    3\n",
       "AAPL    2\n",
       "dtype: int64"
      ]
     },
     "execution_count": 89,
     "metadata": {},
     "output_type": "execute_result"
    }
   ],
   "source": [
    "# and location of the max\n",
    "#in_file = open('thefile.txt', 'r')\n",
    "ef[[\"MSFT\",'AAPL']].idxmax()"
   ]
  },
  {
   "cell_type": "code",
   "execution_count": 90,
   "metadata": {
    "ExecuteTime": {
     "end_time": "2019-07-06T22:01:54.871477Z",
     "start_time": "2019-07-06T22:01:54.862503Z"
    }
   },
   "outputs": [
    {
     "data": {
      "text/plain": [
       "MSFT    11\n",
       "AAPL    11\n",
       "dtype: int64"
      ]
     },
     "execution_count": 90,
     "metadata": {},
     "output_type": "execute_result"
    }
   ],
   "source": [
    "# location of min price for both stocks\n",
    "ef[[\"MSFT\",'AAPL']].idxmin()"
   ]
  },
  {
   "cell_type": "code",
   "execution_count": 91,
   "metadata": {
    "ExecuteTime": {
     "end_time": "2019-07-06T22:01:54.883445Z",
     "start_time": "2019-07-06T22:01:54.874469Z"
    }
   },
   "outputs": [],
   "source": [
    "# and location of the max\n",
    "#ITS DONE ABOVE "
   ]
  },
  {
   "cell_type": "markdown",
   "metadata": {},
   "source": [
    "### Smallest and Largest Values"
   ]
  },
  {
   "cell_type": "code",
   "execution_count": 92,
   "metadata": {
    "ExecuteTime": {
     "end_time": "2019-07-06T22:01:54.944282Z",
     "start_time": "2019-07-06T22:01:54.941291Z"
    }
   },
   "outputs": [
    {
     "data": {
      "text/plain": [
       "11    45.16\n",
       "12    45.74\n",
       "21    46.45\n",
       "10    46.67\n",
       "Name: MSFT, dtype: float64"
      ]
     },
     "execution_count": 92,
     "metadata": {},
     "output_type": "execute_result"
    }
   ],
   "source": [
    "# get the 4 smallest values\n",
    "ef.nsmallest(4,[\"MSFT\"])[\"MSFT\"]"
   ]
  },
  {
   "cell_type": "code",
   "execution_count": 93,
   "metadata": {
    "ExecuteTime": {
     "end_time": "2019-07-06T22:01:54.957250Z",
     "start_time": "2019-07-06T22:01:54.947274Z"
    }
   },
   "outputs": [
    {
     "data": {
      "text/plain": [
       "3     48.84\n",
       "0     48.62\n",
       "1     48.46\n",
       "16    48.45\n",
       "Name: MSFT, dtype: float64"
      ]
     },
     "execution_count": 93,
     "metadata": {},
     "output_type": "execute_result"
    }
   ],
   "source": [
    "# get the 4 largest values\n",
    "ef.nlargest(4,[\"MSFT\"])[\"MSFT\"]"
   ]
  },
  {
   "cell_type": "code",
   "execution_count": 94,
   "metadata": {
    "ExecuteTime": {
     "end_time": "2019-07-06T22:01:54.969216Z",
     "start_time": "2019-07-06T22:01:54.960242Z"
    }
   },
   "outputs": [
    {
     "data": {
      "text/plain": [
       "MSFT     45.16\n",
       "AAPL    106.75\n",
       "dtype: float64"
      ]
     },
     "execution_count": 94,
     "metadata": {},
     "output_type": "execute_result"
    }
   ],
   "source": [
    "# nsmallest on a Series\n",
    "ef[[\"MSFT\",\"AAPL\"]].min()"
   ]
  },
  {
   "cell_type": "markdown",
   "metadata": {},
   "source": [
    "### Accumulations"
   ]
  },
  {
   "cell_type": "code",
   "execution_count": 95,
   "metadata": {
    "ExecuteTime": {
     "end_time": "2019-07-06T22:01:55.039040Z",
     "start_time": "2019-07-06T22:01:55.036038Z"
    }
   },
   "outputs": [
    {
     "data": {
      "text/html": [
       "<div>\n",
       "<style scoped>\n",
       "    .dataframe tbody tr th:only-of-type {\n",
       "        vertical-align: middle;\n",
       "    }\n",
       "\n",
       "    .dataframe tbody tr th {\n",
       "        vertical-align: top;\n",
       "    }\n",
       "\n",
       "    .dataframe thead th {\n",
       "        text-align: right;\n",
       "    }\n",
       "</style>\n",
       "<table border=\"1\" class=\"dataframe\">\n",
       "  <thead>\n",
       "    <tr style=\"text-align: right;\">\n",
       "      <th></th>\n",
       "      <th>MSFT</th>\n",
       "      <th>AAPL</th>\n",
       "    </tr>\n",
       "  </thead>\n",
       "  <tbody>\n",
       "    <tr>\n",
       "      <th>0</th>\n",
       "      <td>4.862000e+01</td>\n",
       "      <td>1.150700e+02</td>\n",
       "    </tr>\n",
       "    <tr>\n",
       "      <th>1</th>\n",
       "      <td>2.356125e+03</td>\n",
       "      <td>1.319047e+04</td>\n",
       "    </tr>\n",
       "    <tr>\n",
       "      <th>2</th>\n",
       "      <td>1.132825e+05</td>\n",
       "      <td>1.529172e+06</td>\n",
       "    </tr>\n",
       "    <tr>\n",
       "      <th>3</th>\n",
       "      <td>5.532717e+06</td>\n",
       "      <td>1.766040e+08</td>\n",
       "    </tr>\n",
       "    <tr>\n",
       "      <th>4</th>\n",
       "      <td>2.678942e+08</td>\n",
       "      <td>2.030946e+10</td>\n",
       "    </tr>\n",
       "    <tr>\n",
       "      <th>5</th>\n",
       "      <td>1.277855e+10</td>\n",
       "      <td>2.282784e+12</td>\n",
       "    </tr>\n",
       "    <tr>\n",
       "      <th>6</th>\n",
       "      <td>6.081313e+11</td>\n",
       "      <td>2.605113e+14</td>\n",
       "    </tr>\n",
       "    <tr>\n",
       "      <th>7</th>\n",
       "      <td>2.852136e+13</td>\n",
       "      <td>2.916424e+16</td>\n",
       "    </tr>\n",
       "    <tr>\n",
       "      <th>8</th>\n",
       "      <td>1.345352e+15</td>\n",
       "      <td>3.255312e+18</td>\n",
       "    </tr>\n",
       "    <tr>\n",
       "      <th>9</th>\n",
       "      <td>6.316430e+16</td>\n",
       "      <td>3.572054e+20</td>\n",
       "    </tr>\n",
       "    <tr>\n",
       "      <th>10</th>\n",
       "      <td>2.947878e+18</td>\n",
       "      <td>3.866034e+22</td>\n",
       "    </tr>\n",
       "    <tr>\n",
       "      <th>11</th>\n",
       "      <td>1.331262e+20</td>\n",
       "      <td>4.126992e+24</td>\n",
       "    </tr>\n",
       "    <tr>\n",
       "      <th>12</th>\n",
       "      <td>6.089190e+21</td>\n",
       "      <td>4.515341e+26</td>\n",
       "    </tr>\n",
       "    <tr>\n",
       "      <th>13</th>\n",
       "      <td>2.893583e+23</td>\n",
       "      <td>5.086532e+28</td>\n",
       "    </tr>\n",
       "    <tr>\n",
       "      <th>14</th>\n",
       "      <td>1.379082e+25</td>\n",
       "      <td>5.685726e+30</td>\n",
       "    </tr>\n",
       "    <tr>\n",
       "      <th>15</th>\n",
       "      <td>6.616834e+26</td>\n",
       "      <td>6.421458e+32</td>\n",
       "    </tr>\n",
       "    <tr>\n",
       "      <th>16</th>\n",
       "      <td>3.205856e+28</td>\n",
       "      <td>7.226709e+34</td>\n",
       "    </tr>\n",
       "    <tr>\n",
       "      <th>17</th>\n",
       "      <td>1.543299e+30</td>\n",
       "      <td>8.094637e+36</td>\n",
       "    </tr>\n",
       "    <tr>\n",
       "      <th>18</th>\n",
       "      <td>7.389317e+31</td>\n",
       "      <td>9.227077e+38</td>\n",
       "    </tr>\n",
       "    <tr>\n",
       "      <th>19</th>\n",
       "      <td>3.506231e+33</td>\n",
       "      <td>1.051056e+41</td>\n",
       "    </tr>\n",
       "    <tr>\n",
       "      <th>20</th>\n",
       "      <td>1.648630e+35</td>\n",
       "      <td>1.182649e+43</td>\n",
       "    </tr>\n",
       "    <tr>\n",
       "      <th>21</th>\n",
       "      <td>7.657885e+36</td>\n",
       "      <td>1.305408e+45</td>\n",
       "    </tr>\n",
       "  </tbody>\n",
       "</table>\n",
       "</div>"
      ],
      "text/plain": [
       "            MSFT          AAPL\n",
       "0   4.862000e+01  1.150700e+02\n",
       "1   2.356125e+03  1.319047e+04\n",
       "2   1.132825e+05  1.529172e+06\n",
       "3   5.532717e+06  1.766040e+08\n",
       "4   2.678942e+08  2.030946e+10\n",
       "5   1.277855e+10  2.282784e+12\n",
       "6   6.081313e+11  2.605113e+14\n",
       "7   2.852136e+13  2.916424e+16\n",
       "8   1.345352e+15  3.255312e+18\n",
       "9   6.316430e+16  3.572054e+20\n",
       "10  2.947878e+18  3.866034e+22\n",
       "11  1.331262e+20  4.126992e+24\n",
       "12  6.089190e+21  4.515341e+26\n",
       "13  2.893583e+23  5.086532e+28\n",
       "14  1.379082e+25  5.685726e+30\n",
       "15  6.616834e+26  6.421458e+32\n",
       "16  3.205856e+28  7.226709e+34\n",
       "17  1.543299e+30  8.094637e+36\n",
       "18  7.389317e+31  9.227077e+38\n",
       "19  3.506231e+33  1.051056e+41\n",
       "20  1.648630e+35  1.182649e+43\n",
       "21  7.657885e+36  1.305408e+45"
      ]
     },
     "execution_count": 95,
     "metadata": {},
     "output_type": "execute_result"
    }
   ],
   "source": [
    "# calculate a cumulative product\n",
    "ef.loc[:,'MSFT':].cumprod()"
   ]
  },
  {
   "cell_type": "code",
   "execution_count": 96,
   "metadata": {
    "ExecuteTime": {
     "end_time": "2019-07-06T22:01:55.055983Z",
     "start_time": "2019-07-06T22:01:55.046011Z"
    }
   },
   "outputs": [
    {
     "data": {
      "text/html": [
       "<div>\n",
       "<style scoped>\n",
       "    .dataframe tbody tr th:only-of-type {\n",
       "        vertical-align: middle;\n",
       "    }\n",
       "\n",
       "    .dataframe tbody tr th {\n",
       "        vertical-align: top;\n",
       "    }\n",
       "\n",
       "    .dataframe thead th {\n",
       "        text-align: right;\n",
       "    }\n",
       "</style>\n",
       "<table border=\"1\" class=\"dataframe\">\n",
       "  <thead>\n",
       "    <tr style=\"text-align: right;\">\n",
       "      <th></th>\n",
       "      <th>MSFT</th>\n",
       "      <th>AAPL</th>\n",
       "    </tr>\n",
       "  </thead>\n",
       "  <tbody>\n",
       "    <tr>\n",
       "      <th>0</th>\n",
       "      <td>48.62</td>\n",
       "      <td>115.07</td>\n",
       "    </tr>\n",
       "    <tr>\n",
       "      <th>1</th>\n",
       "      <td>97.08</td>\n",
       "      <td>229.70</td>\n",
       "    </tr>\n",
       "    <tr>\n",
       "      <th>2</th>\n",
       "      <td>145.16</td>\n",
       "      <td>345.63</td>\n",
       "    </tr>\n",
       "    <tr>\n",
       "      <th>3</th>\n",
       "      <td>194.00</td>\n",
       "      <td>461.12</td>\n",
       "    </tr>\n",
       "    <tr>\n",
       "      <th>4</th>\n",
       "      <td>242.42</td>\n",
       "      <td>576.12</td>\n",
       "    </tr>\n",
       "    <tr>\n",
       "      <th>5</th>\n",
       "      <td>290.12</td>\n",
       "      <td>688.52</td>\n",
       "    </tr>\n",
       "    <tr>\n",
       "      <th>6</th>\n",
       "      <td>337.71</td>\n",
       "      <td>802.64</td>\n",
       "    </tr>\n",
       "    <tr>\n",
       "      <th>7</th>\n",
       "      <td>384.61</td>\n",
       "      <td>914.59</td>\n",
       "    </tr>\n",
       "    <tr>\n",
       "      <th>8</th>\n",
       "      <td>431.78</td>\n",
       "      <td>1026.21</td>\n",
       "    </tr>\n",
       "    <tr>\n",
       "      <th>9</th>\n",
       "      <td>478.73</td>\n",
       "      <td>1135.94</td>\n",
       "    </tr>\n",
       "    <tr>\n",
       "      <th>10</th>\n",
       "      <td>525.40</td>\n",
       "      <td>1244.17</td>\n",
       "    </tr>\n",
       "    <tr>\n",
       "      <th>11</th>\n",
       "      <td>570.56</td>\n",
       "      <td>1350.92</td>\n",
       "    </tr>\n",
       "    <tr>\n",
       "      <th>12</th>\n",
       "      <td>616.30</td>\n",
       "      <td>1460.33</td>\n",
       "    </tr>\n",
       "    <tr>\n",
       "      <th>13</th>\n",
       "      <td>663.82</td>\n",
       "      <td>1572.98</td>\n",
       "    </tr>\n",
       "    <tr>\n",
       "      <th>14</th>\n",
       "      <td>711.48</td>\n",
       "      <td>1684.76</td>\n",
       "    </tr>\n",
       "    <tr>\n",
       "      <th>15</th>\n",
       "      <td>759.46</td>\n",
       "      <td>1797.70</td>\n",
       "    </tr>\n",
       "    <tr>\n",
       "      <th>16</th>\n",
       "      <td>807.91</td>\n",
       "      <td>1910.24</td>\n",
       "    </tr>\n",
       "    <tr>\n",
       "      <th>17</th>\n",
       "      <td>856.05</td>\n",
       "      <td>2022.25</td>\n",
       "    </tr>\n",
       "    <tr>\n",
       "      <th>18</th>\n",
       "      <td>903.93</td>\n",
       "      <td>2136.24</td>\n",
       "    </tr>\n",
       "    <tr>\n",
       "      <th>19</th>\n",
       "      <td>951.38</td>\n",
       "      <td>2250.15</td>\n",
       "    </tr>\n",
       "    <tr>\n",
       "      <th>20</th>\n",
       "      <td>998.40</td>\n",
       "      <td>2362.67</td>\n",
       "    </tr>\n",
       "    <tr>\n",
       "      <th>21</th>\n",
       "      <td>1044.85</td>\n",
       "      <td>2473.05</td>\n",
       "    </tr>\n",
       "  </tbody>\n",
       "</table>\n",
       "</div>"
      ],
      "text/plain": [
       "       MSFT     AAPL\n",
       "0     48.62   115.07\n",
       "1     97.08   229.70\n",
       "2    145.16   345.63\n",
       "3    194.00   461.12\n",
       "4    242.42   576.12\n",
       "5    290.12   688.52\n",
       "6    337.71   802.64\n",
       "7    384.61   914.59\n",
       "8    431.78  1026.21\n",
       "9    478.73  1135.94\n",
       "10   525.40  1244.17\n",
       "11   570.56  1350.92\n",
       "12   616.30  1460.33\n",
       "13   663.82  1572.98\n",
       "14   711.48  1684.76\n",
       "15   759.46  1797.70\n",
       "16   807.91  1910.24\n",
       "17   856.05  2022.25\n",
       "18   903.93  2136.24\n",
       "19   951.38  2250.15\n",
       "20   998.40  2362.67\n",
       "21  1044.85  2473.05"
      ]
     },
     "execution_count": 96,
     "metadata": {},
     "output_type": "execute_result"
    }
   ],
   "source": [
    "# calculate a cumulative sum\n",
    "ef.loc[:,'MSFT':].cumsum()"
   ]
  },
  {
   "cell_type": "markdown",
   "metadata": {},
   "source": [
    "### Summary descriptive statistics"
   ]
  },
  {
   "cell_type": "code",
   "execution_count": 97,
   "metadata": {
    "ExecuteTime": {
     "end_time": "2019-07-06T22:01:55.125797Z",
     "start_time": "2019-07-06T22:01:55.120811Z"
    }
   },
   "outputs": [
    {
     "data": {
      "text/html": [
       "<div>\n",
       "<style scoped>\n",
       "    .dataframe tbody tr th:only-of-type {\n",
       "        vertical-align: middle;\n",
       "    }\n",
       "\n",
       "    .dataframe tbody tr th {\n",
       "        vertical-align: top;\n",
       "    }\n",
       "\n",
       "    .dataframe thead th {\n",
       "        text-align: right;\n",
       "    }\n",
       "</style>\n",
       "<table border=\"1\" class=\"dataframe\">\n",
       "  <thead>\n",
       "    <tr style=\"text-align: right;\">\n",
       "      <th></th>\n",
       "      <th>MSFT</th>\n",
       "      <th>AAPL</th>\n",
       "    </tr>\n",
       "  </thead>\n",
       "  <tbody>\n",
       "    <tr>\n",
       "      <th>count</th>\n",
       "      <td>22.000000</td>\n",
       "      <td>22.000000</td>\n",
       "    </tr>\n",
       "    <tr>\n",
       "      <th>mean</th>\n",
       "      <td>47.493182</td>\n",
       "      <td>112.411364</td>\n",
       "    </tr>\n",
       "    <tr>\n",
       "      <th>std</th>\n",
       "      <td>0.933077</td>\n",
       "      <td>2.388772</td>\n",
       "    </tr>\n",
       "    <tr>\n",
       "      <th>min</th>\n",
       "      <td>45.160000</td>\n",
       "      <td>106.750000</td>\n",
       "    </tr>\n",
       "    <tr>\n",
       "      <th>25%</th>\n",
       "      <td>46.967500</td>\n",
       "      <td>111.660000</td>\n",
       "    </tr>\n",
       "    <tr>\n",
       "      <th>50%</th>\n",
       "      <td>47.625000</td>\n",
       "      <td>112.530000</td>\n",
       "    </tr>\n",
       "    <tr>\n",
       "      <th>75%</th>\n",
       "      <td>48.125000</td>\n",
       "      <td>114.087500</td>\n",
       "    </tr>\n",
       "    <tr>\n",
       "      <th>max</th>\n",
       "      <td>48.840000</td>\n",
       "      <td>115.930000</td>\n",
       "    </tr>\n",
       "  </tbody>\n",
       "</table>\n",
       "</div>"
      ],
      "text/plain": [
       "            MSFT        AAPL\n",
       "count  22.000000   22.000000\n",
       "mean   47.493182  112.411364\n",
       "std     0.933077    2.388772\n",
       "min    45.160000  106.750000\n",
       "25%    46.967500  111.660000\n",
       "50%    47.625000  112.530000\n",
       "75%    48.125000  114.087500\n",
       "max    48.840000  115.930000"
      ]
     },
     "execution_count": 97,
     "metadata": {},
     "output_type": "execute_result"
    }
   ],
   "source": [
    "# get summary statistics for the stock data\n",
    "ef.describe()\n"
   ]
  },
  {
   "cell_type": "code",
   "execution_count": 98,
   "metadata": {
    "ExecuteTime": {
     "end_time": "2019-07-06T22:01:55.136769Z",
     "start_time": "2019-07-06T22:01:55.128790Z"
    }
   },
   "outputs": [
    {
     "data": {
      "text/plain": [
       "count    22.000000\n",
       "mean     47.493182\n",
       "std       0.933077\n",
       "min      45.160000\n",
       "25%      46.967500\n",
       "50%      47.625000\n",
       "75%      48.125000\n",
       "max      48.840000\n",
       "Name: MSFT, dtype: float64"
      ]
     },
     "execution_count": 98,
     "metadata": {},
     "output_type": "execute_result"
    }
   ],
   "source": [
    "# just the stats for MSFT\n",
    "ef[\"MSFT\"].describe()"
   ]
  },
  {
   "cell_type": "code",
   "execution_count": 99,
   "metadata": {
    "ExecuteTime": {
     "end_time": "2019-07-06T22:01:55.149732Z",
     "start_time": "2019-07-06T22:01:55.139761Z"
    }
   },
   "outputs": [
    {
     "data": {
      "text/plain": [
       "47.49318181818182"
      ]
     },
     "execution_count": 99,
     "metadata": {},
     "output_type": "execute_result"
    }
   ],
   "source": [
    "# only the mean for MSFT\n",
    "ef[\"MSFT\"].mean()"
   ]
  },
  {
   "cell_type": "code",
   "execution_count": 100,
   "metadata": {
    "ExecuteTime": {
     "end_time": "2019-07-06T22:01:55.158710Z",
     "start_time": "2019-07-06T22:01:55.152727Z"
    }
   },
   "outputs": [
    {
     "data": {
      "text/plain": [
       "count     6\n",
       "unique    6\n",
       "top       f\n",
       "freq      1\n",
       "dtype: object"
      ]
     },
     "execution_count": 100,
     "metadata": {},
     "output_type": "execute_result"
    }
   ],
   "source": [
    "# get summary stats on non-numeric data \n",
    "s3=pd.Series([\"a\",\"b\",\"c\",\"d\",\"e\",\"f\"])\n",
    "s3.describe()\n",
    "\n"
   ]
  },
  {
   "cell_type": "markdown",
   "metadata": {},
   "source": [
    "### Mean"
   ]
  },
  {
   "cell_type": "code",
   "execution_count": 101,
   "metadata": {
    "ExecuteTime": {
     "end_time": "2019-07-06T22:01:55.214559Z",
     "start_time": "2019-07-06T22:01:55.210571Z"
    }
   },
   "outputs": [
    {
     "data": {
      "text/plain": [
       "MSFT     47.493182\n",
       "AAPL    112.411364\n",
       "dtype: float64"
      ]
     },
     "execution_count": 101,
     "metadata": {},
     "output_type": "execute_result"
    }
   ],
   "source": [
    "# the mean of all the columns in omh\n",
    "ef.mean()"
   ]
  },
  {
   "cell_type": "code",
   "execution_count": 102,
   "metadata": {
    "ExecuteTime": {
     "end_time": "2019-07-06T22:01:55.224535Z",
     "start_time": "2019-07-06T22:01:55.217554Z"
    }
   },
   "outputs": [
    {
     "data": {
      "text/plain": [
       "0     81.845\n",
       "1     81.545\n",
       "2     82.005\n",
       "3     82.165\n",
       "4     81.710\n",
       "5     80.050\n",
       "6     80.855\n",
       "7     79.425\n",
       "8     79.395\n",
       "9     78.340\n",
       "10    77.450\n",
       "11    75.955\n",
       "12    77.575\n",
       "13    80.085\n",
       "14    79.720\n",
       "15    80.460\n",
       "16    80.495\n",
       "17    80.075\n",
       "18    80.935\n",
       "19    80.680\n",
       "20    79.770\n",
       "21    78.415\n",
       "dtype: float64"
      ]
     },
     "execution_count": 102,
     "metadata": {},
     "output_type": "execute_result"
    }
   ],
   "source": [
    "# calc the mean of the values in each row\n",
    "ef.mean(axis=1)"
   ]
  },
  {
   "cell_type": "markdown",
   "metadata": {},
   "source": [
    "### Median"
   ]
  },
  {
   "cell_type": "code",
   "execution_count": 103,
   "metadata": {
    "ExecuteTime": {
     "end_time": "2019-07-06T22:01:55.289360Z",
     "start_time": "2019-07-06T22:01:55.285375Z"
    }
   },
   "outputs": [
    {
     "data": {
      "text/plain": [
       "MSFT     47.625\n",
       "AAPL    112.530\n",
       "dtype: float64"
      ]
     },
     "execution_count": 103,
     "metadata": {},
     "output_type": "execute_result"
    }
   ],
   "source": [
    "# calc the median of the values in each column\n",
    "ef.median() "
   ]
  },
  {
   "cell_type": "markdown",
   "metadata": {},
   "source": [
    "### Mode"
   ]
  },
  {
   "cell_type": "code",
   "execution_count": 104,
   "metadata": {
    "ExecuteTime": {
     "end_time": "2019-07-06T22:01:55.359174Z",
     "start_time": "2019-07-06T22:01:55.355186Z"
    }
   },
   "outputs": [
    {
     "data": {
      "text/html": [
       "<div>\n",
       "<style scoped>\n",
       "    .dataframe tbody tr th:only-of-type {\n",
       "        vertical-align: middle;\n",
       "    }\n",
       "\n",
       "    .dataframe tbody tr th {\n",
       "        vertical-align: top;\n",
       "    }\n",
       "\n",
       "    .dataframe thead th {\n",
       "        text-align: right;\n",
       "    }\n",
       "</style>\n",
       "<table border=\"1\" class=\"dataframe\">\n",
       "  <thead>\n",
       "    <tr style=\"text-align: right;\">\n",
       "      <th></th>\n",
       "      <th>Date</th>\n",
       "      <th>MSFT</th>\n",
       "      <th>AAPL</th>\n",
       "    </tr>\n",
       "  </thead>\n",
       "  <tbody>\n",
       "    <tr>\n",
       "      <th>0</th>\n",
       "      <td>2014-12-01</td>\n",
       "      <td>45.16</td>\n",
       "      <td>106.75</td>\n",
       "    </tr>\n",
       "    <tr>\n",
       "      <th>1</th>\n",
       "      <td>2014-12-02</td>\n",
       "      <td>45.74</td>\n",
       "      <td>108.23</td>\n",
       "    </tr>\n",
       "    <tr>\n",
       "      <th>2</th>\n",
       "      <td>2014-12-03</td>\n",
       "      <td>46.45</td>\n",
       "      <td>109.41</td>\n",
       "    </tr>\n",
       "    <tr>\n",
       "      <th>3</th>\n",
       "      <td>2014-12-04</td>\n",
       "      <td>46.67</td>\n",
       "      <td>109.73</td>\n",
       "    </tr>\n",
       "    <tr>\n",
       "      <th>4</th>\n",
       "      <td>2014-12-05</td>\n",
       "      <td>46.90</td>\n",
       "      <td>110.38</td>\n",
       "    </tr>\n",
       "    <tr>\n",
       "      <th>5</th>\n",
       "      <td>2014-12-08</td>\n",
       "      <td>46.95</td>\n",
       "      <td>111.62</td>\n",
       "    </tr>\n",
       "    <tr>\n",
       "      <th>6</th>\n",
       "      <td>2014-12-09</td>\n",
       "      <td>47.02</td>\n",
       "      <td>111.78</td>\n",
       "    </tr>\n",
       "    <tr>\n",
       "      <th>7</th>\n",
       "      <td>2014-12-10</td>\n",
       "      <td>47.17</td>\n",
       "      <td>111.95</td>\n",
       "    </tr>\n",
       "    <tr>\n",
       "      <th>8</th>\n",
       "      <td>2014-12-11</td>\n",
       "      <td>47.45</td>\n",
       "      <td>112.01</td>\n",
       "    </tr>\n",
       "    <tr>\n",
       "      <th>9</th>\n",
       "      <td>2014-12-12</td>\n",
       "      <td>47.52</td>\n",
       "      <td>112.40</td>\n",
       "    </tr>\n",
       "    <tr>\n",
       "      <th>10</th>\n",
       "      <td>2014-12-15</td>\n",
       "      <td>47.59</td>\n",
       "      <td>112.52</td>\n",
       "    </tr>\n",
       "    <tr>\n",
       "      <th>11</th>\n",
       "      <td>2014-12-16</td>\n",
       "      <td>47.66</td>\n",
       "      <td>112.54</td>\n",
       "    </tr>\n",
       "    <tr>\n",
       "      <th>12</th>\n",
       "      <td>2014-12-17</td>\n",
       "      <td>47.70</td>\n",
       "      <td>112.65</td>\n",
       "    </tr>\n",
       "    <tr>\n",
       "      <th>13</th>\n",
       "      <td>2014-12-18</td>\n",
       "      <td>47.88</td>\n",
       "      <td>112.94</td>\n",
       "    </tr>\n",
       "    <tr>\n",
       "      <th>14</th>\n",
       "      <td>2014-12-19</td>\n",
       "      <td>47.98</td>\n",
       "      <td>113.91</td>\n",
       "    </tr>\n",
       "    <tr>\n",
       "      <th>15</th>\n",
       "      <td>2014-12-22</td>\n",
       "      <td>48.08</td>\n",
       "      <td>113.99</td>\n",
       "    </tr>\n",
       "    <tr>\n",
       "      <th>16</th>\n",
       "      <td>2014-12-23</td>\n",
       "      <td>48.14</td>\n",
       "      <td>114.12</td>\n",
       "    </tr>\n",
       "    <tr>\n",
       "      <th>17</th>\n",
       "      <td>2014-12-24</td>\n",
       "      <td>48.42</td>\n",
       "      <td>114.63</td>\n",
       "    </tr>\n",
       "    <tr>\n",
       "      <th>18</th>\n",
       "      <td>2014-12-26</td>\n",
       "      <td>48.45</td>\n",
       "      <td>115.00</td>\n",
       "    </tr>\n",
       "    <tr>\n",
       "      <th>19</th>\n",
       "      <td>2014-12-29</td>\n",
       "      <td>48.46</td>\n",
       "      <td>115.07</td>\n",
       "    </tr>\n",
       "    <tr>\n",
       "      <th>20</th>\n",
       "      <td>2014-12-30</td>\n",
       "      <td>48.62</td>\n",
       "      <td>115.49</td>\n",
       "    </tr>\n",
       "    <tr>\n",
       "      <th>21</th>\n",
       "      <td>2014-12-31</td>\n",
       "      <td>48.84</td>\n",
       "      <td>115.93</td>\n",
       "    </tr>\n",
       "  </tbody>\n",
       "</table>\n",
       "</div>"
      ],
      "text/plain": [
       "          Date   MSFT    AAPL\n",
       "0   2014-12-01  45.16  106.75\n",
       "1   2014-12-02  45.74  108.23\n",
       "2   2014-12-03  46.45  109.41\n",
       "3   2014-12-04  46.67  109.73\n",
       "4   2014-12-05  46.90  110.38\n",
       "5   2014-12-08  46.95  111.62\n",
       "6   2014-12-09  47.02  111.78\n",
       "7   2014-12-10  47.17  111.95\n",
       "8   2014-12-11  47.45  112.01\n",
       "9   2014-12-12  47.52  112.40\n",
       "10  2014-12-15  47.59  112.52\n",
       "11  2014-12-16  47.66  112.54\n",
       "12  2014-12-17  47.70  112.65\n",
       "13  2014-12-18  47.88  112.94\n",
       "14  2014-12-19  47.98  113.91\n",
       "15  2014-12-22  48.08  113.99\n",
       "16  2014-12-23  48.14  114.12\n",
       "17  2014-12-24  48.42  114.63\n",
       "18  2014-12-26  48.45  115.00\n",
       "19  2014-12-29  48.46  115.07\n",
       "20  2014-12-30  48.62  115.49\n",
       "21  2014-12-31  48.84  115.93"
      ]
     },
     "execution_count": 104,
     "metadata": {},
     "output_type": "execute_result"
    }
   ],
   "source": [
    "# find the mode of this Series\n",
    "ef.mode()"
   ]
  },
  {
   "cell_type": "code",
   "execution_count": 105,
   "metadata": {
    "ExecuteTime": {
     "end_time": "2019-07-06T22:01:55.372138Z",
     "start_time": "2019-07-06T22:01:55.362166Z"
    }
   },
   "outputs": [],
   "source": [
    "# there can be more than one mode\n",
    "# i was told not to attempt"
   ]
  },
  {
   "cell_type": "markdown",
   "metadata": {},
   "source": [
    "### Variance"
   ]
  },
  {
   "cell_type": "code",
   "execution_count": 106,
   "metadata": {
    "ExecuteTime": {
     "end_time": "2019-07-06T22:01:55.430984Z",
     "start_time": "2019-07-06T22:01:55.426993Z"
    }
   },
   "outputs": [
    {
     "data": {
      "text/plain": [
       "MSFT    0.870632\n",
       "AAPL    5.706231\n",
       "dtype: float64"
      ]
     },
     "execution_count": 106,
     "metadata": {},
     "output_type": "execute_result"
    }
   ],
   "source": [
    "# calc the variance of the values in each column\n",
    "ef.var()"
   ]
  },
  {
   "cell_type": "markdown",
   "metadata": {},
   "source": [
    "### Standard Deviation"
   ]
  },
  {
   "cell_type": "code",
   "execution_count": 107,
   "metadata": {
    "ExecuteTime": {
     "end_time": "2019-07-06T22:01:55.501792Z",
     "start_time": "2019-07-06T22:01:55.497805Z"
    }
   },
   "outputs": [
    {
     "data": {
      "text/plain": [
       "MSFT    0.933077\n",
       "AAPL    2.388772\n",
       "dtype: float64"
      ]
     },
     "execution_count": 107,
     "metadata": {},
     "output_type": "execute_result"
    }
   ],
   "source": [
    "# standard deviation\n",
    "ef.std()"
   ]
  },
  {
   "cell_type": "markdown",
   "metadata": {},
   "source": [
    "### Covariance"
   ]
  },
  {
   "cell_type": "code",
   "execution_count": 108,
   "metadata": {
    "ExecuteTime": {
     "end_time": "2019-07-06T22:01:55.570608Z",
     "start_time": "2019-07-06T22:01:55.566620Z"
    }
   },
   "outputs": [
    {
     "data": {
      "text/html": [
       "<div>\n",
       "<style scoped>\n",
       "    .dataframe tbody tr th:only-of-type {\n",
       "        vertical-align: middle;\n",
       "    }\n",
       "\n",
       "    .dataframe tbody tr th {\n",
       "        vertical-align: top;\n",
       "    }\n",
       "\n",
       "    .dataframe thead th {\n",
       "        text-align: right;\n",
       "    }\n",
       "</style>\n",
       "<table border=\"1\" class=\"dataframe\">\n",
       "  <thead>\n",
       "    <tr style=\"text-align: right;\">\n",
       "      <th></th>\n",
       "      <th>MSFT</th>\n",
       "      <th>AAPL</th>\n",
       "    </tr>\n",
       "  </thead>\n",
       "  <tbody>\n",
       "    <tr>\n",
       "      <th>MSFT</th>\n",
       "      <td>0.870632</td>\n",
       "      <td>1.926124</td>\n",
       "    </tr>\n",
       "    <tr>\n",
       "      <th>AAPL</th>\n",
       "      <td>1.926124</td>\n",
       "      <td>5.706231</td>\n",
       "    </tr>\n",
       "  </tbody>\n",
       "</table>\n",
       "</div>"
      ],
      "text/plain": [
       "          MSFT      AAPL\n",
       "MSFT  0.870632  1.926124\n",
       "AAPL  1.926124  5.706231"
      ]
     },
     "execution_count": 108,
     "metadata": {},
     "output_type": "execute_result"
    }
   ],
   "source": [
    "# covariance of MSFT vs AAPL\n",
    "ef.cov()"
   ]
  },
  {
   "cell_type": "markdown",
   "metadata": {},
   "source": [
    "### Correlation"
   ]
  },
  {
   "cell_type": "code",
   "execution_count": 109,
   "metadata": {
    "ExecuteTime": {
     "end_time": "2019-07-06T22:01:55.640428Z",
     "start_time": "2019-07-06T22:01:55.636435Z"
    }
   },
   "outputs": [
    {
     "data": {
      "text/html": [
       "<div>\n",
       "<style scoped>\n",
       "    .dataframe tbody tr th:only-of-type {\n",
       "        vertical-align: middle;\n",
       "    }\n",
       "\n",
       "    .dataframe tbody tr th {\n",
       "        vertical-align: top;\n",
       "    }\n",
       "\n",
       "    .dataframe thead th {\n",
       "        text-align: right;\n",
       "    }\n",
       "</style>\n",
       "<table border=\"1\" class=\"dataframe\">\n",
       "  <thead>\n",
       "    <tr style=\"text-align: right;\">\n",
       "      <th></th>\n",
       "      <th>MSFT</th>\n",
       "      <th>AAPL</th>\n",
       "    </tr>\n",
       "  </thead>\n",
       "  <tbody>\n",
       "    <tr>\n",
       "      <th>MSFT</th>\n",
       "      <td>1.000000</td>\n",
       "      <td>0.864156</td>\n",
       "    </tr>\n",
       "    <tr>\n",
       "      <th>AAPL</th>\n",
       "      <td>0.864156</td>\n",
       "      <td>1.000000</td>\n",
       "    </tr>\n",
       "  </tbody>\n",
       "</table>\n",
       "</div>"
      ],
      "text/plain": [
       "          MSFT      AAPL\n",
       "MSFT  1.000000  0.864156\n",
       "AAPL  0.864156  1.000000"
      ]
     },
     "execution_count": 109,
     "metadata": {},
     "output_type": "execute_result"
    }
   ],
   "source": [
    "# correlation of MSFT relative to AAPL\n",
    "ef.corr()"
   ]
  },
  {
   "cell_type": "markdown",
   "metadata": {},
   "source": [
    "### Discretization and quantiling"
   ]
  },
  {
   "cell_type": "code",
   "execution_count": 110,
   "metadata": {
    "ExecuteTime": {
     "end_time": "2019-07-06T22:01:55.705254Z",
     "start_time": "2019-07-06T22:01:55.701260Z"
    }
   },
   "outputs": [
    {
     "data": {
      "text/plain": [
       "array([-0.79389999,  0.9013196 ,  0.18551704, ...,  0.82603437,\n",
       "       -0.78957113, -0.54001754])"
      ]
     },
     "execution_count": 110,
     "metadata": {},
     "output_type": "execute_result"
    }
   ],
   "source": [
    "# generate 10000 normal random #'s\n",
    "np.random.seed(45678)\n",
    "dist=np.random.normal(size=10000)\n",
    "dist"
   ]
  },
  {
   "cell_type": "code",
   "execution_count": 111,
   "metadata": {
    "ExecuteTime": {
     "end_time": "2019-07-06T22:01:55.717217Z",
     "start_time": "2019-07-06T22:01:55.713227Z"
    }
   },
   "outputs": [
    {
     "data": {
      "text/plain": [
       "-0.016673541827384626"
      ]
     },
     "execution_count": 111,
     "metadata": {},
     "output_type": "execute_result"
    }
   ],
   "source": [
    "# show the mean and std\n",
    "dist.mean()"
   ]
  },
  {
   "cell_type": "code",
   "execution_count": 112,
   "metadata": {},
   "outputs": [
    {
     "data": {
      "text/plain": [
       "1.0005539832738202"
      ]
     },
     "execution_count": 112,
     "metadata": {},
     "output_type": "execute_result"
    }
   ],
   "source": [
    "dist.std()"
   ]
  },
  {
   "cell_type": "code",
   "execution_count": 113,
   "metadata": {
    "ExecuteTime": {
     "end_time": "2019-07-06T22:01:55.729186Z",
     "start_time": "2019-07-06T22:01:55.721206Z"
    }
   },
   "outputs": [
    {
     "data": {
      "text/plain": [
       "[(-2.052, -0.545], (-0.545, 0.961], (-0.545, 0.961], (-2.052, -0.545], (-0.545, 0.961], ..., (0.961, 2.468], (-2.052, -0.545], (-0.545, 0.961], (-2.052, -0.545], (-0.545, 0.961]]\n",
       "Length: 10000\n",
       "Categories (5, interval[float64]): [(-3.566, -2.052] < (-2.052, -0.545] < (-0.545, 0.961] < (0.961, 2.468] < (2.468, 3.975]]"
      ]
     },
     "execution_count": 113,
     "metadata": {},
     "output_type": "execute_result"
    }
   ],
   "source": [
    "# cut into 5 equally sized bins\n",
    "bins=pd.cut(dist,5)\n",
    "bins"
   ]
  },
  {
   "cell_type": "code",
   "execution_count": 114,
   "metadata": {
    "ExecuteTime": {
     "end_time": "2019-07-06T22:01:55.743148Z",
     "start_time": "2019-07-06T22:01:55.732178Z"
    }
   },
   "outputs": [
    {
     "data": {
      "text/plain": [
       "IntervalIndex([(-3.566, -2.052], (-2.052, -0.545], (-0.545, 0.961], (0.961, 2.468], (2.468, 3.975]],\n",
       "              closed='right',\n",
       "              dtype='interval[float64]')"
      ]
     },
     "execution_count": 114,
     "metadata": {},
     "output_type": "execute_result"
    }
   ],
   "source": [
    "# just the categories \n",
    "bins.categories"
   ]
  },
  {
   "cell_type": "code",
   "execution_count": 115,
   "metadata": {
    "ExecuteTime": {
     "end_time": "2019-07-06T22:01:55.757109Z",
     "start_time": "2019-07-06T22:01:55.746139Z"
    }
   },
   "outputs": [],
   "source": [
    "# codes tells us which bin each item is in\n",
    "#Done Above"
   ]
  },
  {
   "cell_type": "code",
   "execution_count": 116,
   "metadata": {
    "ExecuteTime": {
     "end_time": "2019-07-06T22:01:55.767084Z",
     "start_time": "2019-07-06T22:01:55.760103Z"
    }
   },
   "outputs": [
    {
     "data": {
      "text/plain": [
       "IntervalIndex([[-3.558, -2.052), [-2.052, -0.545), [-0.545, 0.961), [0.961, 2.468), [2.468, 3.982)],\n",
       "              closed='left',\n",
       "              dtype='interval[float64]')"
      ]
     },
     "execution_count": 116,
     "metadata": {},
     "output_type": "execute_result"
    }
   ],
   "source": [
    "# move the closed side of the interval to the left\n",
    "bins=pd.cut(dist,5,right=False)\n",
    "bins.categories"
   ]
  },
  {
   "cell_type": "code",
   "execution_count": 117,
   "metadata": {
    "ExecuteTime": {
     "end_time": "2019-07-06T22:01:55.777057Z",
     "start_time": "2019-07-06T22:01:55.770075Z"
    }
   },
   "outputs": [
    {
     "name": "stdout",
     "output_type": "stream",
     "text": [
      "[22, 13, 37, 34, 36, 30, 19, 12, 37, 7, 30, 33, 44, 6, 34, 23, 20, 43, 12, 26, 7, 7, 7, 40, 6, 30, 19, 33, 7, 39, 20, 34, 37, 41, 20, 28, 20, 20, 35, 24, 7, 32, 41, 12, 17, 24, 13, 27, 38, 33]\n"
     ]
    }
   ],
   "source": [
    "# generate 50 ages between 6 and 45\n",
    "import random\n",
    "age=[]\n",
    "for i in range(50):\n",
    "    age.append(random.randint(6,45))\n",
    "print(age)\n",
    "    "
   ]
  },
  {
   "cell_type": "code",
   "execution_count": 118,
   "metadata": {
    "ExecuteTime": {
     "end_time": "2019-07-06T22:01:55.787036Z",
     "start_time": "2019-07-06T22:01:55.779051Z"
    }
   },
   "outputs": [
    {
     "data": {
      "text/html": [
       "<div>\n",
       "<style scoped>\n",
       "    .dataframe tbody tr th:only-of-type {\n",
       "        vertical-align: middle;\n",
       "    }\n",
       "\n",
       "    .dataframe tbody tr th {\n",
       "        vertical-align: top;\n",
       "    }\n",
       "\n",
       "    .dataframe thead th {\n",
       "        text-align: right;\n",
       "    }\n",
       "</style>\n",
       "<table border=\"1\" class=\"dataframe\">\n",
       "  <thead>\n",
       "    <tr style=\"text-align: right;\">\n",
       "      <th></th>\n",
       "      <th>counts</th>\n",
       "      <th>freqs</th>\n",
       "    </tr>\n",
       "    <tr>\n",
       "      <th>categories</th>\n",
       "      <th></th>\n",
       "      <th></th>\n",
       "    </tr>\n",
       "  </thead>\n",
       "  <tbody>\n",
       "    <tr>\n",
       "      <th>(5, 12]</th>\n",
       "      <td>11</td>\n",
       "      <td>0.22</td>\n",
       "    </tr>\n",
       "    <tr>\n",
       "      <th>(12, 18]</th>\n",
       "      <td>3</td>\n",
       "      <td>0.06</td>\n",
       "    </tr>\n",
       "    <tr>\n",
       "      <th>(18, 35]</th>\n",
       "      <td>25</td>\n",
       "      <td>0.50</td>\n",
       "    </tr>\n",
       "    <tr>\n",
       "      <th>(35, 46]</th>\n",
       "      <td>11</td>\n",
       "      <td>0.22</td>\n",
       "    </tr>\n",
       "  </tbody>\n",
       "</table>\n",
       "</div>"
      ],
      "text/plain": [
       "            counts  freqs\n",
       "categories               \n",
       "(5, 12]         11   0.22\n",
       "(12, 18]         3   0.06\n",
       "(18, 35]        25   0.50\n",
       "(35, 46]        11   0.22"
      ]
     },
     "execution_count": 118,
     "metadata": {},
     "output_type": "execute_result"
    }
   ],
   "source": [
    "# cut into ranges and then get descriptive stats\n",
    "ranges=[5,12,18,35,46]\n",
    "agebins=pd.cut(age, ranges)\n",
    "agebins.describe()"
   ]
  },
  {
   "cell_type": "code",
   "execution_count": 119,
   "metadata": {
    "ExecuteTime": {
     "end_time": "2019-07-06T22:01:55.797035Z",
     "start_time": "2019-07-06T22:01:55.789024Z"
    }
   },
   "outputs": [
    {
     "data": {
      "text/html": [
       "<div>\n",
       "<style scoped>\n",
       "    .dataframe tbody tr th:only-of-type {\n",
       "        vertical-align: middle;\n",
       "    }\n",
       "\n",
       "    .dataframe tbody tr th {\n",
       "        vertical-align: top;\n",
       "    }\n",
       "\n",
       "    .dataframe thead th {\n",
       "        text-align: right;\n",
       "    }\n",
       "</style>\n",
       "<table border=\"1\" class=\"dataframe\">\n",
       "  <thead>\n",
       "    <tr style=\"text-align: right;\">\n",
       "      <th></th>\n",
       "      <th>counts</th>\n",
       "      <th>freqs</th>\n",
       "    </tr>\n",
       "    <tr>\n",
       "      <th>categories</th>\n",
       "      <th></th>\n",
       "      <th></th>\n",
       "    </tr>\n",
       "  </thead>\n",
       "  <tbody>\n",
       "    <tr>\n",
       "      <th>5-12</th>\n",
       "      <td>11</td>\n",
       "      <td>0.22</td>\n",
       "    </tr>\n",
       "    <tr>\n",
       "      <th>12-18</th>\n",
       "      <td>3</td>\n",
       "      <td>0.06</td>\n",
       "    </tr>\n",
       "    <tr>\n",
       "      <th>18-35</th>\n",
       "      <td>25</td>\n",
       "      <td>0.50</td>\n",
       "    </tr>\n",
       "    <tr>\n",
       "      <th>35-46</th>\n",
       "      <td>11</td>\n",
       "      <td>0.22</td>\n",
       "    </tr>\n",
       "  </tbody>\n",
       "</table>\n",
       "</div>"
      ],
      "text/plain": [
       "            counts  freqs\n",
       "categories               \n",
       "5-12            11   0.22\n",
       "12-18            3   0.06\n",
       "18-35           25   0.50\n",
       "35-46           11   0.22"
      ]
     },
     "execution_count": 119,
     "metadata": {},
     "output_type": "execute_result"
    }
   ],
   "source": [
    "# add names for the bins\n",
    "agebins=pd.cut(age, ranges, labels=[\"5-12\",\"12-18\",\"18-35\",\"35-46\"])\n",
    "agebins.describe()"
   ]
  },
  {
   "cell_type": "code",
   "execution_count": 120,
   "metadata": {
    "ExecuteTime": {
     "end_time": "2019-07-06T22:01:55.806976Z",
     "start_time": "2019-07-06T22:01:55.799996Z"
    }
   },
   "outputs": [
    {
     "data": {
      "text/html": [
       "<div>\n",
       "<style scoped>\n",
       "    .dataframe tbody tr th:only-of-type {\n",
       "        vertical-align: middle;\n",
       "    }\n",
       "\n",
       "    .dataframe tbody tr th {\n",
       "        vertical-align: top;\n",
       "    }\n",
       "\n",
       "    .dataframe thead th {\n",
       "        text-align: right;\n",
       "    }\n",
       "</style>\n",
       "<table border=\"1\" class=\"dataframe\">\n",
       "  <thead>\n",
       "    <tr style=\"text-align: right;\">\n",
       "      <th></th>\n",
       "      <th>counts</th>\n",
       "      <th>freqs</th>\n",
       "    </tr>\n",
       "    <tr>\n",
       "      <th>categories</th>\n",
       "      <th></th>\n",
       "      <th></th>\n",
       "    </tr>\n",
       "  </thead>\n",
       "  <tbody>\n",
       "    <tr>\n",
       "      <th>(5.999, 12.0]</th>\n",
       "      <td>11</td>\n",
       "      <td>0.22</td>\n",
       "    </tr>\n",
       "    <tr>\n",
       "      <th>(12.0, 20.0]</th>\n",
       "      <td>10</td>\n",
       "      <td>0.20</td>\n",
       "    </tr>\n",
       "    <tr>\n",
       "      <th>(20.0, 30.0]</th>\n",
       "      <td>10</td>\n",
       "      <td>0.20</td>\n",
       "    </tr>\n",
       "    <tr>\n",
       "      <th>(30.0, 36.2]</th>\n",
       "      <td>9</td>\n",
       "      <td>0.18</td>\n",
       "    </tr>\n",
       "    <tr>\n",
       "      <th>(36.2, 44.0]</th>\n",
       "      <td>10</td>\n",
       "      <td>0.20</td>\n",
       "    </tr>\n",
       "  </tbody>\n",
       "</table>\n",
       "</div>"
      ],
      "text/plain": [
       "               counts  freqs\n",
       "categories                  \n",
       "(5.999, 12.0]      11   0.22\n",
       "(12.0, 20.0]       10   0.20\n",
       "(20.0, 30.0]       10   0.20\n",
       "(30.0, 36.2]        9   0.18\n",
       "(36.2, 44.0]       10   0.20"
      ]
     },
     "execution_count": 120,
     "metadata": {},
     "output_type": "execute_result"
    }
   ],
   "source": [
    "# cut into quantiles\n",
    "# 5 bins with an equal quantity of items\n",
    " \n",
    "# this will tell us the range of values in each quantile\n",
    "agebins1=pd.qcut(age,5)\n",
    "agebins1.describe()"
   ]
  },
  {
   "cell_type": "code",
   "execution_count": 121,
   "metadata": {
    "ExecuteTime": {
     "end_time": "2019-07-06T22:01:55.817991Z",
     "start_time": "2019-07-06T22:01:55.809970Z"
    }
   },
   "outputs": [],
   "source": [
    "# make the quantiles at the +/- 3, 2 and 1 std deviations\n",
    " \n",
    "# this data should be a perfect normal distribution\n",
    " "
   ]
  },
  {
   "cell_type": "markdown",
   "metadata": {},
   "source": [
    "### Ranking"
   ]
  },
  {
   "cell_type": "code",
   "execution_count": 122,
   "metadata": {
    "ExecuteTime": {
     "end_time": "2019-07-06T22:01:55.853852Z",
     "start_time": "2019-07-06T22:01:55.849862Z"
    }
   },
   "outputs": [
    {
     "data": {
      "text/plain": [
       "count    10.00000\n",
       "mean      4.50000\n",
       "std       3.02765\n",
       "min       0.00000\n",
       "25%       2.25000\n",
       "50%       4.50000\n",
       "75%       6.75000\n",
       "max       9.00000\n",
       "dtype: float64"
      ]
     },
     "execution_count": 122,
     "metadata": {},
     "output_type": "execute_result"
    }
   ],
   "source": [
    "# bring random data\n",
    "s3=pd.Series([0,1,2,3,4,5,6,7,8,9])\n",
    "s3.describe()\n"
   ]
  },
  {
   "cell_type": "code",
   "execution_count": 123,
   "metadata": {
    "ExecuteTime": {
     "end_time": "2019-07-06T22:01:55.865819Z",
     "start_time": "2019-07-06T22:01:55.856844Z"
    }
   },
   "outputs": [
    {
     "data": {
      "text/plain": [
       "0     1.0\n",
       "1     2.0\n",
       "2     3.0\n",
       "3     4.0\n",
       "4     5.0\n",
       "5     6.0\n",
       "6     7.0\n",
       "7     8.0\n",
       "8     9.0\n",
       "9    10.0\n",
       "dtype: float64"
      ]
     },
     "execution_count": 123,
     "metadata": {},
     "output_type": "execute_result"
    }
   ],
   "source": [
    "# rank the values\n",
    "s3.rank()"
   ]
  },
  {
   "cell_type": "markdown",
   "metadata": {},
   "source": [
    "### Percent change"
   ]
  },
  {
   "cell_type": "code",
   "execution_count": 124,
   "metadata": {
    "ExecuteTime": {
     "end_time": "2019-07-06T22:01:55.928658Z",
     "start_time": "2019-07-06T22:01:55.925661Z"
    }
   },
   "outputs": [
    {
     "data": {
      "text/plain": [
       "0          NaN\n",
       "1    -0.003291\n",
       "2    -0.007842\n",
       "3     0.015807\n",
       "4    -0.008600\n",
       "5    -0.014870\n",
       "6    -0.002306\n",
       "7    -0.014499\n",
       "8     0.005757\n",
       "9    -0.004664\n",
       "10   -0.005964\n",
       "11   -0.032355\n",
       "12    0.012843\n",
       "13    0.038916\n",
       "14    0.002946\n",
       "15    0.006714\n",
       "16    0.009796\n",
       "17   -0.006398\n",
       "18   -0.005401\n",
       "19   -0.008981\n",
       "20   -0.009062\n",
       "21   -0.012123\n",
       "Name: MSFT, dtype: float64"
      ]
     },
     "execution_count": 124,
     "metadata": {},
     "output_type": "execute_result"
    }
   ],
   "source": [
    "# calculate % change on MSFT\n",
    "ef[\"MSFT\"].pct_change() "
   ]
  },
  {
   "cell_type": "markdown",
   "metadata": {},
   "source": [
    "### Moving window operations"
   ]
  },
  {
   "cell_type": "code",
   "execution_count": 125,
   "metadata": {
    "ExecuteTime": {
     "end_time": "2019-07-06T22:01:56.009436Z",
     "start_time": "2019-07-06T22:01:56.005447Z"
    }
   },
   "outputs": [
    {
     "data": {
      "image/png": "[encoded data removed]",
      "text/plain": [
       "<Figure size 432x288 with 1 Axes>"
      ]
     },
     "metadata": {
      "needs_background": "light"
     },
     "output_type": "display_data"
    }
   ],
   "source": [
    "# create a random walk\n",
    "from random import seed\n",
    "from random import randrange\n",
    "from matplotlib import pyplot\n",
    "seed(1)\n",
    "series = [randrange(10) for i in range(1000)]\n",
    "pyplot.plot(series)\n",
    "pyplot.show()"
   ]
  },
  {
   "cell_type": "code",
   "execution_count": 126,
   "metadata": {
    "ExecuteTime": {
     "end_time": "2019-07-06T22:01:56.020405Z",
     "start_time": "2019-07-06T22:01:56.012433Z"
    }
   },
   "outputs": [
    {
     "data": {
      "image/png": "[encoded data removed]",
      "text/plain": [
       "<Figure size 432x288 with 1 Axes>"
      ]
     },
     "metadata": {
      "needs_background": "light"
     },
     "output_type": "display_data"
    }
   ],
   "source": [
    "# plot a 100 from s\n",
    "from random import seed\n",
    "from random import random\n",
    "from matplotlib import pyplot\n",
    "seed(1)\n",
    "random_walk = list()\n",
    "random_walk.append(-1 if random() < 0.5 else 1)\n",
    "for i in range(1, 100):\n",
    "    movement = -1 if random() < 0.5 else 1\n",
    "    value = random_walk[i-1] + movement\n",
    "    random_walk.append(value)\n",
    "pyplot.plot(random_walk)\n",
    "pyplot.show()"
   ]
  },
  {
   "cell_type": "code",
   "execution_count": 127,
   "metadata": {
    "ExecuteTime": {
     "end_time": "2019-07-06T22:01:56.031377Z",
     "start_time": "2019-07-06T22:01:56.023406Z"
    }
   },
   "outputs": [
    {
     "data": {
      "image/png": "[encoded data removed]",
      "text/plain": [
       "<Figure size 432x288 with 1 Axes>"
      ]
     },
     "metadata": {
      "needs_background": "light"
     },
     "output_type": "display_data"
    }
   ],
   "source": [
    "# calculate rolling window of three days\n",
    "from random import seed\n",
    "from random import random\n",
    "from matplotlib import pyplot\n",
    "seed(1)\n",
    "random_walk = list()\n",
    "random_walk.append(-1 if random() < 0.5 else 1)\n",
    "for i in range(1, 3):\n",
    "    movement = -1 if random() < 0.5 else 1\n",
    "    value = random_walk[i-1] + movement\n",
    "    random_walk.append(value)\n",
    "pyplot.plot(random_walk)\n",
    "pyplot.show()"
   ]
  },
  {
   "cell_type": "code",
   "execution_count": 128,
   "metadata": {
    "ExecuteTime": {
     "end_time": "2019-07-06T22:01:56.042347Z",
     "start_time": "2019-07-06T22:01:56.034369Z"
    }
   },
   "outputs": [
    {
     "data": {
      "text/plain": [
       "48.38666666666666"
      ]
     },
     "execution_count": 128,
     "metadata": {},
     "output_type": "execute_result"
    }
   ],
   "source": [
    "# the rolling mean at three days\n",
    "#r=ef.MSTF\n",
    "#r.rolling(1).mean()[:3]\n",
    "#pd.rolling_mean(ef, window, min_periods=3, freq=None, center=False, how=None, **kwargs)\n",
    "a=ef[\"MSFT\"]\n",
    "a.rolling(3).mean()[2]"
   ]
  },
  {
   "cell_type": "code",
   "execution_count": 129,
   "metadata": {
    "ExecuteTime": {
     "end_time": "2019-07-06T22:01:56.053318Z",
     "start_time": "2019-07-06T22:01:56.045341Z"
    }
   },
   "outputs": [
    {
     "data": {
      "text/plain": [
       "48.38666666666666"
      ]
     },
     "execution_count": 129,
     "metadata": {},
     "output_type": "execute_result"
    }
   ],
   "source": [
    "# check the mean of the first 3 numbers\n",
    "a=ef[\"MSFT\"]\n",
    "a.rolling(3).mean()[2]"
   ]
  },
  {
   "cell_type": "code",
   "execution_count": 130,
   "metadata": {
    "ExecuteTime": {
     "end_time": "2019-07-06T22:01:56.066283Z",
     "start_time": "2019-07-06T22:01:56.056311Z"
    }
   },
   "outputs": [
    {
     "data": {
      "text/plain": [
       "48.46"
      ]
     },
     "execution_count": 130,
     "metadata": {},
     "output_type": "execute_result"
    }
   ],
   "source": [
    "# mean of 1 through 3\n",
    "a[1:].rolling(3).mean()[3]"
   ]
  },
  {
   "cell_type": "code",
   "execution_count": 131,
   "metadata": {
    "ExecuteTime": {
     "end_time": "2019-07-06T22:01:56.075261Z",
     "start_time": "2019-07-06T22:01:56.069277Z"
    }
   },
   "outputs": [
    {
     "data": {
      "text/plain": [
       "[<matplotlib.lines.Line2D at 0x1fb89e11f98>]"
      ]
     },
     "execution_count": 131,
     "metadata": {},
     "output_type": "execute_result"
    },
    {
     "data": {
      "image/png": "[encoded data removed]",
      "text/plain": [
       "<Figure size 432x288 with 1 Axes>"
      ]
     },
     "metadata": {
      "needs_background": "light"
     },
     "output_type": "display_data"
    }
   ],
   "source": [
    "# plot the 3 day rolling mean\n",
    "plt.plot(y.rolling(3).mean())"
   ]
  },
  {
   "cell_type": "markdown",
   "metadata": {},
   "source": [
    "### Random sampling"
   ]
  },
  {
   "cell_type": "code",
   "execution_count": 133,
   "metadata": {
    "ExecuteTime": {
     "end_time": "2019-07-06T22:01:56.127122Z",
     "start_time": "2019-07-06T22:01:56.123134Z"
    }
   },
   "outputs": [
    {
     "data": {
      "text/html": [
       "<div>\n",
       "<style scoped>\n",
       "    .dataframe tbody tr th:only-of-type {\n",
       "        vertical-align: middle;\n",
       "    }\n",
       "\n",
       "    .dataframe tbody tr th {\n",
       "        vertical-align: top;\n",
       "    }\n",
       "\n",
       "    .dataframe thead th {\n",
       "        text-align: right;\n",
       "    }\n",
       "</style>\n",
       "<table border=\"1\" class=\"dataframe\">\n",
       "  <thead>\n",
       "    <tr style=\"text-align: right;\">\n",
       "      <th></th>\n",
       "      <th>0</th>\n",
       "      <th>1</th>\n",
       "      <th>2</th>\n",
       "      <th>3</th>\n",
       "    </tr>\n",
       "  </thead>\n",
       "  <tbody>\n",
       "    <tr>\n",
       "      <th>0</th>\n",
       "      <td>0.515009</td>\n",
       "      <td>0.967641</td>\n",
       "      <td>0.047922</td>\n",
       "      <td>0.777644</td>\n",
       "    </tr>\n",
       "    <tr>\n",
       "      <th>1</th>\n",
       "      <td>0.937550</td>\n",
       "      <td>0.185147</td>\n",
       "      <td>0.861097</td>\n",
       "      <td>0.189303</td>\n",
       "    </tr>\n",
       "    <tr>\n",
       "      <th>2</th>\n",
       "      <td>0.690085</td>\n",
       "      <td>0.910554</td>\n",
       "      <td>0.660165</td>\n",
       "      <td>0.459840</td>\n",
       "    </tr>\n",
       "    <tr>\n",
       "      <th>3</th>\n",
       "      <td>0.255895</td>\n",
       "      <td>0.987478</td>\n",
       "      <td>0.535638</td>\n",
       "      <td>0.018014</td>\n",
       "    </tr>\n",
       "    <tr>\n",
       "      <th>4</th>\n",
       "      <td>0.790393</td>\n",
       "      <td>0.157138</td>\n",
       "      <td>0.900181</td>\n",
       "      <td>0.580929</td>\n",
       "    </tr>\n",
       "    <tr>\n",
       "      <th>5</th>\n",
       "      <td>0.504026</td>\n",
       "      <td>0.030341</td>\n",
       "      <td>0.785646</td>\n",
       "      <td>0.776870</td>\n",
       "    </tr>\n",
       "    <tr>\n",
       "      <th>6</th>\n",
       "      <td>0.296722</td>\n",
       "      <td>0.029421</td>\n",
       "      <td>0.021340</td>\n",
       "      <td>0.609678</td>\n",
       "    </tr>\n",
       "    <tr>\n",
       "      <th>7</th>\n",
       "      <td>0.918374</td>\n",
       "      <td>0.994097</td>\n",
       "      <td>0.976908</td>\n",
       "      <td>0.389492</td>\n",
       "    </tr>\n",
       "    <tr>\n",
       "      <th>8</th>\n",
       "      <td>0.983691</td>\n",
       "      <td>0.576577</td>\n",
       "      <td>0.478583</td>\n",
       "      <td>0.862355</td>\n",
       "    </tr>\n",
       "    <tr>\n",
       "      <th>9</th>\n",
       "      <td>0.498882</td>\n",
       "      <td>0.408124</td>\n",
       "      <td>0.460169</td>\n",
       "      <td>0.886728</td>\n",
       "    </tr>\n",
       "    <tr>\n",
       "      <th>10</th>\n",
       "      <td>0.435193</td>\n",
       "      <td>0.442463</td>\n",
       "      <td>0.458845</td>\n",
       "      <td>0.828341</td>\n",
       "    </tr>\n",
       "    <tr>\n",
       "      <th>11</th>\n",
       "      <td>0.454317</td>\n",
       "      <td>0.748875</td>\n",
       "      <td>0.452435</td>\n",
       "      <td>0.407794</td>\n",
       "    </tr>\n",
       "    <tr>\n",
       "      <th>12</th>\n",
       "      <td>0.415610</td>\n",
       "      <td>0.853397</td>\n",
       "      <td>0.603247</td>\n",
       "      <td>0.945758</td>\n",
       "    </tr>\n",
       "    <tr>\n",
       "      <th>13</th>\n",
       "      <td>0.444236</td>\n",
       "      <td>0.915881</td>\n",
       "      <td>0.312733</td>\n",
       "      <td>0.381513</td>\n",
       "    </tr>\n",
       "    <tr>\n",
       "      <th>14</th>\n",
       "      <td>0.072319</td>\n",
       "      <td>0.406022</td>\n",
       "      <td>0.762194</td>\n",
       "      <td>0.729613</td>\n",
       "    </tr>\n",
       "    <tr>\n",
       "      <th>15</th>\n",
       "      <td>0.069210</td>\n",
       "      <td>0.709929</td>\n",
       "      <td>0.762576</td>\n",
       "      <td>0.317757</td>\n",
       "    </tr>\n",
       "    <tr>\n",
       "      <th>16</th>\n",
       "      <td>0.401387</td>\n",
       "      <td>0.287138</td>\n",
       "      <td>0.461284</td>\n",
       "      <td>0.238729</td>\n",
       "    </tr>\n",
       "    <tr>\n",
       "      <th>17</th>\n",
       "      <td>0.991651</td>\n",
       "      <td>0.295379</td>\n",
       "      <td>0.747120</td>\n",
       "      <td>0.050287</td>\n",
       "    </tr>\n",
       "    <tr>\n",
       "      <th>18</th>\n",
       "      <td>0.419349</td>\n",
       "      <td>0.985588</td>\n",
       "      <td>0.042125</td>\n",
       "      <td>0.375843</td>\n",
       "    </tr>\n",
       "    <tr>\n",
       "      <th>19</th>\n",
       "      <td>0.265023</td>\n",
       "      <td>0.955369</td>\n",
       "      <td>0.854591</td>\n",
       "      <td>0.806453</td>\n",
       "    </tr>\n",
       "    <tr>\n",
       "      <th>20</th>\n",
       "      <td>0.963656</td>\n",
       "      <td>0.280913</td>\n",
       "      <td>0.142726</td>\n",
       "      <td>0.144264</td>\n",
       "    </tr>\n",
       "    <tr>\n",
       "      <th>21</th>\n",
       "      <td>0.276465</td>\n",
       "      <td>0.251925</td>\n",
       "      <td>0.819548</td>\n",
       "      <td>0.705494</td>\n",
       "    </tr>\n",
       "    <tr>\n",
       "      <th>22</th>\n",
       "      <td>0.111640</td>\n",
       "      <td>0.313670</td>\n",
       "      <td>0.756971</td>\n",
       "      <td>0.937328</td>\n",
       "    </tr>\n",
       "    <tr>\n",
       "      <th>23</th>\n",
       "      <td>0.565166</td>\n",
       "      <td>0.666611</td>\n",
       "      <td>0.543802</td>\n",
       "      <td>0.953780</td>\n",
       "    </tr>\n",
       "    <tr>\n",
       "      <th>24</th>\n",
       "      <td>0.623461</td>\n",
       "      <td>0.674835</td>\n",
       "      <td>0.954044</td>\n",
       "      <td>0.017820</td>\n",
       "    </tr>\n",
       "    <tr>\n",
       "      <th>25</th>\n",
       "      <td>0.455097</td>\n",
       "      <td>0.855807</td>\n",
       "      <td>0.459864</td>\n",
       "      <td>0.173219</td>\n",
       "    </tr>\n",
       "    <tr>\n",
       "      <th>26</th>\n",
       "      <td>0.236576</td>\n",
       "      <td>0.306234</td>\n",
       "      <td>0.630955</td>\n",
       "      <td>0.753613</td>\n",
       "    </tr>\n",
       "    <tr>\n",
       "      <th>27</th>\n",
       "      <td>0.959329</td>\n",
       "      <td>0.034272</td>\n",
       "      <td>0.819056</td>\n",
       "      <td>0.402833</td>\n",
       "    </tr>\n",
       "    <tr>\n",
       "      <th>28</th>\n",
       "      <td>0.477708</td>\n",
       "      <td>0.887571</td>\n",
       "      <td>0.873582</td>\n",
       "      <td>0.852337</td>\n",
       "    </tr>\n",
       "    <tr>\n",
       "      <th>29</th>\n",
       "      <td>0.629734</td>\n",
       "      <td>0.936089</td>\n",
       "      <td>0.166087</td>\n",
       "      <td>0.029474</td>\n",
       "    </tr>\n",
       "    <tr>\n",
       "      <th>30</th>\n",
       "      <td>0.099519</td>\n",
       "      <td>0.116173</td>\n",
       "      <td>0.545747</td>\n",
       "      <td>0.222209</td>\n",
       "    </tr>\n",
       "    <tr>\n",
       "      <th>31</th>\n",
       "      <td>0.087461</td>\n",
       "      <td>0.529101</td>\n",
       "      <td>0.409788</td>\n",
       "      <td>0.885164</td>\n",
       "    </tr>\n",
       "    <tr>\n",
       "      <th>32</th>\n",
       "      <td>0.589843</td>\n",
       "      <td>0.639490</td>\n",
       "      <td>0.854304</td>\n",
       "      <td>0.650871</td>\n",
       "    </tr>\n",
       "    <tr>\n",
       "      <th>33</th>\n",
       "      <td>0.418288</td>\n",
       "      <td>0.588779</td>\n",
       "      <td>0.352591</td>\n",
       "      <td>0.906230</td>\n",
       "    </tr>\n",
       "    <tr>\n",
       "      <th>34</th>\n",
       "      <td>0.752229</td>\n",
       "      <td>0.384366</td>\n",
       "      <td>0.993896</td>\n",
       "      <td>0.622035</td>\n",
       "    </tr>\n",
       "    <tr>\n",
       "      <th>35</th>\n",
       "      <td>0.459993</td>\n",
       "      <td>0.798510</td>\n",
       "      <td>0.509637</td>\n",
       "      <td>0.204408</td>\n",
       "    </tr>\n",
       "    <tr>\n",
       "      <th>36</th>\n",
       "      <td>0.283062</td>\n",
       "      <td>0.009170</td>\n",
       "      <td>0.827749</td>\n",
       "      <td>0.755129</td>\n",
       "    </tr>\n",
       "    <tr>\n",
       "      <th>37</th>\n",
       "      <td>0.164874</td>\n",
       "      <td>0.265098</td>\n",
       "      <td>0.622803</td>\n",
       "      <td>0.168269</td>\n",
       "    </tr>\n",
       "    <tr>\n",
       "      <th>38</th>\n",
       "      <td>0.152151</td>\n",
       "      <td>0.233205</td>\n",
       "      <td>0.618439</td>\n",
       "      <td>0.839258</td>\n",
       "    </tr>\n",
       "    <tr>\n",
       "      <th>39</th>\n",
       "      <td>0.786424</td>\n",
       "      <td>0.617942</td>\n",
       "      <td>0.397447</td>\n",
       "      <td>0.658199</td>\n",
       "    </tr>\n",
       "    <tr>\n",
       "      <th>40</th>\n",
       "      <td>0.594566</td>\n",
       "      <td>0.705482</td>\n",
       "      <td>0.619963</td>\n",
       "      <td>0.228980</td>\n",
       "    </tr>\n",
       "    <tr>\n",
       "      <th>41</th>\n",
       "      <td>0.724569</td>\n",
       "      <td>0.755335</td>\n",
       "      <td>0.246444</td>\n",
       "      <td>0.815937</td>\n",
       "    </tr>\n",
       "    <tr>\n",
       "      <th>42</th>\n",
       "      <td>0.653689</td>\n",
       "      <td>0.065093</td>\n",
       "      <td>0.112527</td>\n",
       "      <td>0.860772</td>\n",
       "    </tr>\n",
       "    <tr>\n",
       "      <th>43</th>\n",
       "      <td>0.343899</td>\n",
       "      <td>0.467030</td>\n",
       "      <td>0.111463</td>\n",
       "      <td>0.764627</td>\n",
       "    </tr>\n",
       "    <tr>\n",
       "      <th>44</th>\n",
       "      <td>0.026947</td>\n",
       "      <td>0.805110</td>\n",
       "      <td>0.977153</td>\n",
       "      <td>0.368135</td>\n",
       "    </tr>\n",
       "    <tr>\n",
       "      <th>45</th>\n",
       "      <td>0.991350</td>\n",
       "      <td>0.190110</td>\n",
       "      <td>0.510697</td>\n",
       "      <td>0.304277</td>\n",
       "    </tr>\n",
       "    <tr>\n",
       "      <th>46</th>\n",
       "      <td>0.736673</td>\n",
       "      <td>0.245107</td>\n",
       "      <td>0.024656</td>\n",
       "      <td>0.033550</td>\n",
       "    </tr>\n",
       "    <tr>\n",
       "      <th>47</th>\n",
       "      <td>0.394552</td>\n",
       "      <td>0.061498</td>\n",
       "      <td>0.008325</td>\n",
       "      <td>0.898678</td>\n",
       "    </tr>\n",
       "    <tr>\n",
       "      <th>48</th>\n",
       "      <td>0.848069</td>\n",
       "      <td>0.423529</td>\n",
       "      <td>0.610328</td>\n",
       "      <td>0.143039</td>\n",
       "    </tr>\n",
       "    <tr>\n",
       "      <th>49</th>\n",
       "      <td>0.663763</td>\n",
       "      <td>0.215892</td>\n",
       "      <td>0.125979</td>\n",
       "      <td>0.072329</td>\n",
       "    </tr>\n",
       "  </tbody>\n",
       "</table>\n",
       "</div>"
      ],
      "text/plain": [
       "           0         1         2         3\n",
       "0   0.515009  0.967641  0.047922  0.777644\n",
       "1   0.937550  0.185147  0.861097  0.189303\n",
       "2   0.690085  0.910554  0.660165  0.459840\n",
       "3   0.255895  0.987478  0.535638  0.018014\n",
       "4   0.790393  0.157138  0.900181  0.580929\n",
       "5   0.504026  0.030341  0.785646  0.776870\n",
       "6   0.296722  0.029421  0.021340  0.609678\n",
       "7   0.918374  0.994097  0.976908  0.389492\n",
       "8   0.983691  0.576577  0.478583  0.862355\n",
       "9   0.498882  0.408124  0.460169  0.886728\n",
       "10  0.435193  0.442463  0.458845  0.828341\n",
       "11  0.454317  0.748875  0.452435  0.407794\n",
       "12  0.415610  0.853397  0.603247  0.945758\n",
       "13  0.444236  0.915881  0.312733  0.381513\n",
       "14  0.072319  0.406022  0.762194  0.729613\n",
       "15  0.069210  0.709929  0.762576  0.317757\n",
       "16  0.401387  0.287138  0.461284  0.238729\n",
       "17  0.991651  0.295379  0.747120  0.050287\n",
       "18  0.419349  0.985588  0.042125  0.375843\n",
       "19  0.265023  0.955369  0.854591  0.806453\n",
       "20  0.963656  0.280913  0.142726  0.144264\n",
       "21  0.276465  0.251925  0.819548  0.705494\n",
       "22  0.111640  0.313670  0.756971  0.937328\n",
       "23  0.565166  0.666611  0.543802  0.953780\n",
       "24  0.623461  0.674835  0.954044  0.017820\n",
       "25  0.455097  0.855807  0.459864  0.173219\n",
       "26  0.236576  0.306234  0.630955  0.753613\n",
       "27  0.959329  0.034272  0.819056  0.402833\n",
       "28  0.477708  0.887571  0.873582  0.852337\n",
       "29  0.629734  0.936089  0.166087  0.029474\n",
       "30  0.099519  0.116173  0.545747  0.222209\n",
       "31  0.087461  0.529101  0.409788  0.885164\n",
       "32  0.589843  0.639490  0.854304  0.650871\n",
       "33  0.418288  0.588779  0.352591  0.906230\n",
       "34  0.752229  0.384366  0.993896  0.622035\n",
       "35  0.459993  0.798510  0.509637  0.204408\n",
       "36  0.283062  0.009170  0.827749  0.755129\n",
       "37  0.164874  0.265098  0.622803  0.168269\n",
       "38  0.152151  0.233205  0.618439  0.839258\n",
       "39  0.786424  0.617942  0.397447  0.658199\n",
       "40  0.594566  0.705482  0.619963  0.228980\n",
       "41  0.724569  0.755335  0.246444  0.815937\n",
       "42  0.653689  0.065093  0.112527  0.860772\n",
       "43  0.343899  0.467030  0.111463  0.764627\n",
       "44  0.026947  0.805110  0.977153  0.368135\n",
       "45  0.991350  0.190110  0.510697  0.304277\n",
       "46  0.736673  0.245107  0.024656  0.033550\n",
       "47  0.394552  0.061498  0.008325  0.898678\n",
       "48  0.848069  0.423529  0.610328  0.143039\n",
       "49  0.663763  0.215892  0.125979  0.072329"
      ]
     },
     "execution_count": 133,
     "metadata": {},
     "output_type": "execute_result"
    }
   ],
   "source": [
    "# create a random sample of four columns of 50 items\n",
    "four=pd.DataFrame(np.random.rand(50,4))\n",
    "four"
   ]
  },
  {
   "cell_type": "code",
   "execution_count": 138,
   "metadata": {
    "ExecuteTime": {
     "end_time": "2019-07-06T22:01:56.143079Z",
     "start_time": "2019-07-06T22:01:56.134103Z"
    }
   },
   "outputs": [
    {
     "data": {
      "text/html": [
       "<div>\n",
       "<style scoped>\n",
       "    .dataframe tbody tr th:only-of-type {\n",
       "        vertical-align: middle;\n",
       "    }\n",
       "\n",
       "    .dataframe tbody tr th {\n",
       "        vertical-align: top;\n",
       "    }\n",
       "\n",
       "    .dataframe thead th {\n",
       "        text-align: right;\n",
       "    }\n",
       "</style>\n",
       "<table border=\"1\" class=\"dataframe\">\n",
       "  <thead>\n",
       "    <tr style=\"text-align: right;\">\n",
       "      <th></th>\n",
       "      <th>0</th>\n",
       "      <th>1</th>\n",
       "      <th>2</th>\n",
       "      <th>3</th>\n",
       "    </tr>\n",
       "  </thead>\n",
       "  <tbody>\n",
       "    <tr>\n",
       "      <th>0</th>\n",
       "      <td>0.515009</td>\n",
       "      <td>0.967641</td>\n",
       "      <td>0.047922</td>\n",
       "      <td>0.777644</td>\n",
       "    </tr>\n",
       "    <tr>\n",
       "      <th>1</th>\n",
       "      <td>0.937550</td>\n",
       "      <td>0.185147</td>\n",
       "      <td>0.861097</td>\n",
       "      <td>0.189303</td>\n",
       "    </tr>\n",
       "    <tr>\n",
       "      <th>2</th>\n",
       "      <td>0.690085</td>\n",
       "      <td>0.910554</td>\n",
       "      <td>0.660165</td>\n",
       "      <td>0.459840</td>\n",
       "    </tr>\n",
       "    <tr>\n",
       "      <th>3</th>\n",
       "      <td>0.255895</td>\n",
       "      <td>0.987478</td>\n",
       "      <td>0.535638</td>\n",
       "      <td>0.018014</td>\n",
       "    </tr>\n",
       "    <tr>\n",
       "      <th>4</th>\n",
       "      <td>0.790393</td>\n",
       "      <td>0.157138</td>\n",
       "      <td>0.900181</td>\n",
       "      <td>0.580929</td>\n",
       "    </tr>\n",
       "    <tr>\n",
       "      <th>5</th>\n",
       "      <td>0.504026</td>\n",
       "      <td>0.030341</td>\n",
       "      <td>0.785646</td>\n",
       "      <td>0.776870</td>\n",
       "    </tr>\n",
       "    <tr>\n",
       "      <th>6</th>\n",
       "      <td>0.296722</td>\n",
       "      <td>0.029421</td>\n",
       "      <td>0.021340</td>\n",
       "      <td>0.609678</td>\n",
       "    </tr>\n",
       "    <tr>\n",
       "      <th>7</th>\n",
       "      <td>0.918374</td>\n",
       "      <td>0.994097</td>\n",
       "      <td>0.976908</td>\n",
       "      <td>0.389492</td>\n",
       "    </tr>\n",
       "    <tr>\n",
       "      <th>8</th>\n",
       "      <td>0.983691</td>\n",
       "      <td>0.576577</td>\n",
       "      <td>0.478583</td>\n",
       "      <td>0.862355</td>\n",
       "    </tr>\n",
       "    <tr>\n",
       "      <th>9</th>\n",
       "      <td>0.498882</td>\n",
       "      <td>0.408124</td>\n",
       "      <td>0.460169</td>\n",
       "      <td>0.886728</td>\n",
       "    </tr>\n",
       "    <tr>\n",
       "      <th>10</th>\n",
       "      <td>0.435193</td>\n",
       "      <td>0.442463</td>\n",
       "      <td>0.458845</td>\n",
       "      <td>0.828341</td>\n",
       "    </tr>\n",
       "    <tr>\n",
       "      <th>11</th>\n",
       "      <td>0.454317</td>\n",
       "      <td>0.748875</td>\n",
       "      <td>0.452435</td>\n",
       "      <td>0.407794</td>\n",
       "    </tr>\n",
       "    <tr>\n",
       "      <th>12</th>\n",
       "      <td>0.415610</td>\n",
       "      <td>0.853397</td>\n",
       "      <td>0.603247</td>\n",
       "      <td>0.945758</td>\n",
       "    </tr>\n",
       "    <tr>\n",
       "      <th>13</th>\n",
       "      <td>0.444236</td>\n",
       "      <td>0.915881</td>\n",
       "      <td>0.312733</td>\n",
       "      <td>0.381513</td>\n",
       "    </tr>\n",
       "    <tr>\n",
       "      <th>14</th>\n",
       "      <td>0.072319</td>\n",
       "      <td>0.406022</td>\n",
       "      <td>0.762194</td>\n",
       "      <td>0.729613</td>\n",
       "    </tr>\n",
       "    <tr>\n",
       "      <th>15</th>\n",
       "      <td>0.069210</td>\n",
       "      <td>0.709929</td>\n",
       "      <td>0.762576</td>\n",
       "      <td>0.317757</td>\n",
       "    </tr>\n",
       "    <tr>\n",
       "      <th>16</th>\n",
       "      <td>0.401387</td>\n",
       "      <td>0.287138</td>\n",
       "      <td>0.461284</td>\n",
       "      <td>0.238729</td>\n",
       "    </tr>\n",
       "    <tr>\n",
       "      <th>17</th>\n",
       "      <td>0.991651</td>\n",
       "      <td>0.295379</td>\n",
       "      <td>0.747120</td>\n",
       "      <td>0.050287</td>\n",
       "    </tr>\n",
       "    <tr>\n",
       "      <th>18</th>\n",
       "      <td>0.419349</td>\n",
       "      <td>0.985588</td>\n",
       "      <td>0.042125</td>\n",
       "      <td>0.375843</td>\n",
       "    </tr>\n",
       "    <tr>\n",
       "      <th>19</th>\n",
       "      <td>0.265023</td>\n",
       "      <td>0.955369</td>\n",
       "      <td>0.854591</td>\n",
       "      <td>0.806453</td>\n",
       "    </tr>\n",
       "    <tr>\n",
       "      <th>20</th>\n",
       "      <td>0.963656</td>\n",
       "      <td>0.280913</td>\n",
       "      <td>0.142726</td>\n",
       "      <td>0.144264</td>\n",
       "    </tr>\n",
       "    <tr>\n",
       "      <th>21</th>\n",
       "      <td>0.276465</td>\n",
       "      <td>0.251925</td>\n",
       "      <td>0.819548</td>\n",
       "      <td>0.705494</td>\n",
       "    </tr>\n",
       "    <tr>\n",
       "      <th>22</th>\n",
       "      <td>0.111640</td>\n",
       "      <td>0.313670</td>\n",
       "      <td>0.756971</td>\n",
       "      <td>0.937328</td>\n",
       "    </tr>\n",
       "    <tr>\n",
       "      <th>23</th>\n",
       "      <td>0.565166</td>\n",
       "      <td>0.666611</td>\n",
       "      <td>0.543802</td>\n",
       "      <td>0.953780</td>\n",
       "    </tr>\n",
       "    <tr>\n",
       "      <th>24</th>\n",
       "      <td>0.623461</td>\n",
       "      <td>0.674835</td>\n",
       "      <td>0.954044</td>\n",
       "      <td>0.017820</td>\n",
       "    </tr>\n",
       "    <tr>\n",
       "      <th>25</th>\n",
       "      <td>0.455097</td>\n",
       "      <td>0.855807</td>\n",
       "      <td>0.459864</td>\n",
       "      <td>0.173219</td>\n",
       "    </tr>\n",
       "    <tr>\n",
       "      <th>26</th>\n",
       "      <td>0.236576</td>\n",
       "      <td>0.306234</td>\n",
       "      <td>0.630955</td>\n",
       "      <td>0.753613</td>\n",
       "    </tr>\n",
       "    <tr>\n",
       "      <th>27</th>\n",
       "      <td>0.959329</td>\n",
       "      <td>0.034272</td>\n",
       "      <td>0.819056</td>\n",
       "      <td>0.402833</td>\n",
       "    </tr>\n",
       "    <tr>\n",
       "      <th>28</th>\n",
       "      <td>0.477708</td>\n",
       "      <td>0.887571</td>\n",
       "      <td>0.873582</td>\n",
       "      <td>0.852337</td>\n",
       "    </tr>\n",
       "    <tr>\n",
       "      <th>29</th>\n",
       "      <td>0.629734</td>\n",
       "      <td>0.936089</td>\n",
       "      <td>0.166087</td>\n",
       "      <td>0.029474</td>\n",
       "    </tr>\n",
       "    <tr>\n",
       "      <th>30</th>\n",
       "      <td>0.099519</td>\n",
       "      <td>0.116173</td>\n",
       "      <td>0.545747</td>\n",
       "      <td>0.222209</td>\n",
       "    </tr>\n",
       "    <tr>\n",
       "      <th>31</th>\n",
       "      <td>0.087461</td>\n",
       "      <td>0.529101</td>\n",
       "      <td>0.409788</td>\n",
       "      <td>0.885164</td>\n",
       "    </tr>\n",
       "    <tr>\n",
       "      <th>32</th>\n",
       "      <td>0.589843</td>\n",
       "      <td>0.639490</td>\n",
       "      <td>0.854304</td>\n",
       "      <td>0.650871</td>\n",
       "    </tr>\n",
       "    <tr>\n",
       "      <th>33</th>\n",
       "      <td>0.418288</td>\n",
       "      <td>0.588779</td>\n",
       "      <td>0.352591</td>\n",
       "      <td>0.906230</td>\n",
       "    </tr>\n",
       "    <tr>\n",
       "      <th>34</th>\n",
       "      <td>0.752229</td>\n",
       "      <td>0.384366</td>\n",
       "      <td>0.993896</td>\n",
       "      <td>0.622035</td>\n",
       "    </tr>\n",
       "    <tr>\n",
       "      <th>35</th>\n",
       "      <td>0.459993</td>\n",
       "      <td>0.798510</td>\n",
       "      <td>0.509637</td>\n",
       "      <td>0.204408</td>\n",
       "    </tr>\n",
       "    <tr>\n",
       "      <th>36</th>\n",
       "      <td>0.283062</td>\n",
       "      <td>0.009170</td>\n",
       "      <td>0.827749</td>\n",
       "      <td>0.755129</td>\n",
       "    </tr>\n",
       "    <tr>\n",
       "      <th>37</th>\n",
       "      <td>0.164874</td>\n",
       "      <td>0.265098</td>\n",
       "      <td>0.622803</td>\n",
       "      <td>0.168269</td>\n",
       "    </tr>\n",
       "    <tr>\n",
       "      <th>38</th>\n",
       "      <td>0.152151</td>\n",
       "      <td>0.233205</td>\n",
       "      <td>0.618439</td>\n",
       "      <td>0.839258</td>\n",
       "    </tr>\n",
       "    <tr>\n",
       "      <th>39</th>\n",
       "      <td>0.786424</td>\n",
       "      <td>0.617942</td>\n",
       "      <td>0.397447</td>\n",
       "      <td>0.658199</td>\n",
       "    </tr>\n",
       "    <tr>\n",
       "      <th>40</th>\n",
       "      <td>0.594566</td>\n",
       "      <td>0.705482</td>\n",
       "      <td>0.619963</td>\n",
       "      <td>0.228980</td>\n",
       "    </tr>\n",
       "    <tr>\n",
       "      <th>41</th>\n",
       "      <td>0.724569</td>\n",
       "      <td>0.755335</td>\n",
       "      <td>0.246444</td>\n",
       "      <td>0.815937</td>\n",
       "    </tr>\n",
       "    <tr>\n",
       "      <th>42</th>\n",
       "      <td>0.653689</td>\n",
       "      <td>0.065093</td>\n",
       "      <td>0.112527</td>\n",
       "      <td>0.860772</td>\n",
       "    </tr>\n",
       "    <tr>\n",
       "      <th>43</th>\n",
       "      <td>0.343899</td>\n",
       "      <td>0.467030</td>\n",
       "      <td>0.111463</td>\n",
       "      <td>0.764627</td>\n",
       "    </tr>\n",
       "    <tr>\n",
       "      <th>44</th>\n",
       "      <td>0.026947</td>\n",
       "      <td>0.805110</td>\n",
       "      <td>0.977153</td>\n",
       "      <td>0.368135</td>\n",
       "    </tr>\n",
       "    <tr>\n",
       "      <th>45</th>\n",
       "      <td>0.991350</td>\n",
       "      <td>0.190110</td>\n",
       "      <td>0.510697</td>\n",
       "      <td>0.304277</td>\n",
       "    </tr>\n",
       "    <tr>\n",
       "      <th>46</th>\n",
       "      <td>0.736673</td>\n",
       "      <td>0.245107</td>\n",
       "      <td>0.024656</td>\n",
       "      <td>0.033550</td>\n",
       "    </tr>\n",
       "    <tr>\n",
       "      <th>47</th>\n",
       "      <td>0.394552</td>\n",
       "      <td>0.061498</td>\n",
       "      <td>0.008325</td>\n",
       "      <td>0.898678</td>\n",
       "    </tr>\n",
       "    <tr>\n",
       "      <th>48</th>\n",
       "      <td>0.848069</td>\n",
       "      <td>0.423529</td>\n",
       "      <td>0.610328</td>\n",
       "      <td>0.143039</td>\n",
       "    </tr>\n",
       "    <tr>\n",
       "      <th>49</th>\n",
       "      <td>0.663763</td>\n",
       "      <td>0.215892</td>\n",
       "      <td>0.125979</td>\n",
       "      <td>0.072329</td>\n",
       "    </tr>\n",
       "  </tbody>\n",
       "</table>\n",
       "</div>"
      ],
      "text/plain": [
       "           0         1         2         3\n",
       "0   0.515009  0.967641  0.047922  0.777644\n",
       "1   0.937550  0.185147  0.861097  0.189303\n",
       "2   0.690085  0.910554  0.660165  0.459840\n",
       "3   0.255895  0.987478  0.535638  0.018014\n",
       "4   0.790393  0.157138  0.900181  0.580929\n",
       "5   0.504026  0.030341  0.785646  0.776870\n",
       "6   0.296722  0.029421  0.021340  0.609678\n",
       "7   0.918374  0.994097  0.976908  0.389492\n",
       "8   0.983691  0.576577  0.478583  0.862355\n",
       "9   0.498882  0.408124  0.460169  0.886728\n",
       "10  0.435193  0.442463  0.458845  0.828341\n",
       "11  0.454317  0.748875  0.452435  0.407794\n",
       "12  0.415610  0.853397  0.603247  0.945758\n",
       "13  0.444236  0.915881  0.312733  0.381513\n",
       "14  0.072319  0.406022  0.762194  0.729613\n",
       "15  0.069210  0.709929  0.762576  0.317757\n",
       "16  0.401387  0.287138  0.461284  0.238729\n",
       "17  0.991651  0.295379  0.747120  0.050287\n",
       "18  0.419349  0.985588  0.042125  0.375843\n",
       "19  0.265023  0.955369  0.854591  0.806453\n",
       "20  0.963656  0.280913  0.142726  0.144264\n",
       "21  0.276465  0.251925  0.819548  0.705494\n",
       "22  0.111640  0.313670  0.756971  0.937328\n",
       "23  0.565166  0.666611  0.543802  0.953780\n",
       "24  0.623461  0.674835  0.954044  0.017820\n",
       "25  0.455097  0.855807  0.459864  0.173219\n",
       "26  0.236576  0.306234  0.630955  0.753613\n",
       "27  0.959329  0.034272  0.819056  0.402833\n",
       "28  0.477708  0.887571  0.873582  0.852337\n",
       "29  0.629734  0.936089  0.166087  0.029474\n",
       "30  0.099519  0.116173  0.545747  0.222209\n",
       "31  0.087461  0.529101  0.409788  0.885164\n",
       "32  0.589843  0.639490  0.854304  0.650871\n",
       "33  0.418288  0.588779  0.352591  0.906230\n",
       "34  0.752229  0.384366  0.993896  0.622035\n",
       "35  0.459993  0.798510  0.509637  0.204408\n",
       "36  0.283062  0.009170  0.827749  0.755129\n",
       "37  0.164874  0.265098  0.622803  0.168269\n",
       "38  0.152151  0.233205  0.618439  0.839258\n",
       "39  0.786424  0.617942  0.397447  0.658199\n",
       "40  0.594566  0.705482  0.619963  0.228980\n",
       "41  0.724569  0.755335  0.246444  0.815937\n",
       "42  0.653689  0.065093  0.112527  0.860772\n",
       "43  0.343899  0.467030  0.111463  0.764627\n",
       "44  0.026947  0.805110  0.977153  0.368135\n",
       "45  0.991350  0.190110  0.510697  0.304277\n",
       "46  0.736673  0.245107  0.024656  0.033550\n",
       "47  0.394552  0.061498  0.008325  0.898678\n",
       "48  0.848069  0.423529  0.610328  0.143039\n",
       "49  0.663763  0.215892  0.125979  0.072329"
      ]
     },
     "execution_count": 138,
     "metadata": {},
     "output_type": "execute_result"
    }
   ],
   "source": [
    "# sample three random rows\n",
    "four.sample(n=3) \n",
    "four"
   ]
  },
  {
   "cell_type": "code",
   "execution_count": 137,
   "metadata": {
    "ExecuteTime": {
     "end_time": "2019-07-06T22:01:56.155046Z",
     "start_time": "2019-07-06T22:01:56.146071Z"
    }
   },
   "outputs": [
    {
     "data": {
      "text/html": [
       "<div>\n",
       "<style scoped>\n",
       "    .dataframe tbody tr th:only-of-type {\n",
       "        vertical-align: middle;\n",
       "    }\n",
       "\n",
       "    .dataframe tbody tr th {\n",
       "        vertical-align: top;\n",
       "    }\n",
       "\n",
       "    .dataframe thead th {\n",
       "        text-align: right;\n",
       "    }\n",
       "</style>\n",
       "<table border=\"1\" class=\"dataframe\">\n",
       "  <thead>\n",
       "    <tr style=\"text-align: right;\">\n",
       "      <th></th>\n",
       "      <th>0</th>\n",
       "      <th>1</th>\n",
       "      <th>2</th>\n",
       "      <th>3</th>\n",
       "    </tr>\n",
       "  </thead>\n",
       "  <tbody>\n",
       "    <tr>\n",
       "      <th>13</th>\n",
       "      <td>0.444236</td>\n",
       "      <td>0.915881</td>\n",
       "      <td>0.312733</td>\n",
       "      <td>0.381513</td>\n",
       "    </tr>\n",
       "    <tr>\n",
       "      <th>21</th>\n",
       "      <td>0.276465</td>\n",
       "      <td>0.251925</td>\n",
       "      <td>0.819548</td>\n",
       "      <td>0.705494</td>\n",
       "    </tr>\n",
       "    <tr>\n",
       "      <th>12</th>\n",
       "      <td>0.415610</td>\n",
       "      <td>0.853397</td>\n",
       "      <td>0.603247</td>\n",
       "      <td>0.945758</td>\n",
       "    </tr>\n",
       "    <tr>\n",
       "      <th>34</th>\n",
       "      <td>0.752229</td>\n",
       "      <td>0.384366</td>\n",
       "      <td>0.993896</td>\n",
       "      <td>0.622035</td>\n",
       "    </tr>\n",
       "    <tr>\n",
       "      <th>2</th>\n",
       "      <td>0.690085</td>\n",
       "      <td>0.910554</td>\n",
       "      <td>0.660165</td>\n",
       "      <td>0.459840</td>\n",
       "    </tr>\n",
       "  </tbody>\n",
       "</table>\n",
       "</div>"
      ],
      "text/plain": [
       "           0         1         2         3\n",
       "13  0.444236  0.915881  0.312733  0.381513\n",
       "21  0.276465  0.251925  0.819548  0.705494\n",
       "12  0.415610  0.853397  0.603247  0.945758\n",
       "34  0.752229  0.384366  0.993896  0.622035\n",
       "2   0.690085  0.910554  0.660165  0.459840"
      ]
     },
     "execution_count": 137,
     "metadata": {},
     "output_type": "execute_result"
    }
   ],
   "source": [
    "# sample 10% of the rows\n",
    "four.sample(frac=0.1)"
   ]
  },
  {
   "cell_type": "code",
   "execution_count": 141,
   "metadata": {
    "ExecuteTime": {
     "end_time": "2019-07-06T22:01:56.166017Z",
     "start_time": "2019-07-06T22:01:56.158039Z"
    }
   },
   "outputs": [
    {
     "data": {
      "text/html": [
       "<div>\n",
       "<style scoped>\n",
       "    .dataframe tbody tr th:only-of-type {\n",
       "        vertical-align: middle;\n",
       "    }\n",
       "\n",
       "    .dataframe tbody tr th {\n",
       "        vertical-align: top;\n",
       "    }\n",
       "\n",
       "    .dataframe thead th {\n",
       "        text-align: right;\n",
       "    }\n",
       "</style>\n",
       "<table border=\"1\" class=\"dataframe\">\n",
       "  <thead>\n",
       "    <tr style=\"text-align: right;\">\n",
       "      <th></th>\n",
       "      <th>0</th>\n",
       "      <th>1</th>\n",
       "      <th>2</th>\n",
       "      <th>3</th>\n",
       "    </tr>\n",
       "  </thead>\n",
       "  <tbody>\n",
       "    <tr>\n",
       "      <th>5</th>\n",
       "      <td>0.504026</td>\n",
       "      <td>0.030341</td>\n",
       "      <td>0.785646</td>\n",
       "      <td>0.776870</td>\n",
       "    </tr>\n",
       "    <tr>\n",
       "      <th>36</th>\n",
       "      <td>0.283062</td>\n",
       "      <td>0.009170</td>\n",
       "      <td>0.827749</td>\n",
       "      <td>0.755129</td>\n",
       "    </tr>\n",
       "    <tr>\n",
       "      <th>22</th>\n",
       "      <td>0.111640</td>\n",
       "      <td>0.313670</td>\n",
       "      <td>0.756971</td>\n",
       "      <td>0.937328</td>\n",
       "    </tr>\n",
       "    <tr>\n",
       "      <th>8</th>\n",
       "      <td>0.983691</td>\n",
       "      <td>0.576577</td>\n",
       "      <td>0.478583</td>\n",
       "      <td>0.862355</td>\n",
       "    </tr>\n",
       "    <tr>\n",
       "      <th>46</th>\n",
       "      <td>0.736673</td>\n",
       "      <td>0.245107</td>\n",
       "      <td>0.024656</td>\n",
       "      <td>0.033550</td>\n",
       "    </tr>\n",
       "  </tbody>\n",
       "</table>\n",
       "</div>"
      ],
      "text/plain": [
       "           0         1         2         3\n",
       "5   0.504026  0.030341  0.785646  0.776870\n",
       "36  0.283062  0.009170  0.827749  0.755129\n",
       "22  0.111640  0.313670  0.756971  0.937328\n",
       "8   0.983691  0.576577  0.478583  0.862355\n",
       "46  0.736673  0.245107  0.024656  0.033550"
      ]
     },
     "execution_count": 141,
     "metadata": {},
     "output_type": "execute_result"
    }
   ],
   "source": [
    "# 10% with replacement\n",
    "four.sample(frac=0.1,replace=True)"
   ]
  },
  {
   "cell_type": "code",
   "execution_count": null,
   "metadata": {},
   "outputs": [],
   "source": []
  }
 ],
 "metadata": {
  "anaconda-cloud": {},
  "kernelspec": {
   "display_name": "Python 3",
   "language": "python",
   "name": "python3"
  },
  "language_info": {
   "codemirror_mode": {
    "name": "ipython",
    "version": 3
   },
   "file_extension": ".py",
   "mimetype": "text/x-python",
   "name": "python",
   "nbconvert_exporter": "python",
   "pygments_lexer": "ipython3",
   "version": "3.7.3"
  },
  "latex_envs": {
   "LaTeX_envs_menu_present": true,
   "autoclose": false,
   "autocomplete": true,
   "bibliofile": "biblio.bib",
   "cite_by": "apalike",
   "current_citInitial": 1,
   "eqLabelWithNumbers": true,
   "eqNumInitial": 1,
   "hotkeys": {
    "equation": "Ctrl-E",
    "itemize": "Ctrl-I"
   },
   "labels_anchors": false,
   "latex_user_defs": false,
   "report_style_numbering": false,
   "user_envs_cfg": false
  },
  "varInspector": {
   "cols": {
    "lenName": 16,
    "lenType": 16,
    "lenVar": 40
   },
   "kernels_config": {
    "python": {
     "delete_cmd_postfix": "",
     "delete_cmd_prefix": "del ",
     "library": "var_list.py",
     "varRefreshCmd": "print(var_dic_list())"
    },
    "r": {
     "delete_cmd_postfix": ") ",
     "delete_cmd_prefix": "rm(",
     "library": "var_list.r",
     "varRefreshCmd": "cat(var_dic_list()) "
    }
   },
   "types_to_exclude": [
    "module",
    "function",
    "builtin_function_or_method",
    "instance",
    "_Feature"
   ],
   "window_display": false
  }
 },
 "nbformat": 4,
 "nbformat_minor": 1
}
